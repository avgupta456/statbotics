{
 "cells": [
  {
   "cell_type": "markdown",
   "metadata": {},
   "source": [
    "# Statbotics Python API Documentation\n",
    "\n",
    "Statbotics.io aims to modernize FRC data analytics through developing and distributing advanced metrics such as Elo and OPR. We have created a Python API to easily query these metrics. This document will serve as a guide to using the API. Enjoy!"
   ]
  },
  {
   "cell_type": "markdown",
   "metadata": {},
   "source": [
    "The Statbotics API is available on PyPI and can be installed using pip. On your local machine, run **\"python -m pip install statbotics\"**\n",
    "\n",
    "Having installed the library, we can now use it in our code. The following cell shows the minimal setup required."
   ]
  },
  {
   "cell_type": "code",
   "execution_count": 1,
   "metadata": {},
   "outputs": [],
   "source": [
    "import statbotics\n",
    "\n",
    "sb = statbotics.Statbotics()"
   ]
  },
  {
   "cell_type": "markdown",
   "metadata": {},
   "source": [
    "The Statbotics API lets you query the following objects:\n",
    "1. **Teams**: Get a team's location and Elo statistics (Current Elo, Recent Elo, Mean Elo, Max Elo)\n",
    "2. **Years**: Get the prediction accuracy and Brier score using Elo and OPR to predict matches, and ILS to predict RPs\n",
    "3. **TeamYears**: Get a team's performance in a specific year (Start Elo, Pre-Champs Elo, End Elo, ... , Component OPRs, ILS)\n",
    "4. **Events**: Get summary statistics for a given event (Type, Week, Top 8 Elos, Top 24 Elos, Top 8 OPRs, Top 24 OPRs)\n",
    "5. **TeamEvents**: Get a team's performance in a specific event (Start Elo, Pre-Playoffs Elo, End Elo, ..., Component OPRs, ILS)\n",
    "6. **Matches**: Get statistics for a specific match (score breakdown, Elo, OPR, ILS predictions)\n",
    "7. **TeamMatches**: Get information for a specific team in a specific match (Match, Alliance, Elo)\n",
    "\n",
    "For each of these seven objects, there are functions to return a specific object, or a list of objects by certain criteria. Each object is returned as a dictionary mapping columns to specific values. Let's look at some examples!"
   ]
  },
  {
   "cell_type": "code",
   "execution_count": null,
   "metadata": {},
   "outputs": [],
   "source": []
  }
 ],
 "metadata": {
  "kernelspec": {
   "display_name": "Python 3",
   "language": "python",
   "name": "python3"
  },
  "language_info": {
   "codemirror_mode": {
    "name": "ipython",
    "version": 3
   },
   "file_extension": ".py",
   "mimetype": "text/x-python",
   "name": "python",
   "nbconvert_exporter": "python",
   "pygments_lexer": "ipython3",
   "version": "3.7.6"
  }
 },
 "nbformat": 4,
 "nbformat_minor": 4
}
