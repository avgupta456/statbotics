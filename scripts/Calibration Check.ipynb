{
 "cells": [
  {
   "cell_type": "markdown",
   "id": "089ba132",
   "metadata": {},
   "source": [
    "# Calibration\n",
    "\n",
    "In this notebook, I investigate if the win probabilities are calibrated. That is, when we say there is a 60% chance the red alliance wins, does the red alliance win 60% of the time? Long story short, the Elo model is very well calibrated (as a result of its computation), and the OPR and Mix models are fairly well calibrated. I tested calibration post-processing steps but these did not affect MSE significantly. I also investigated using a different ratio of Elo and OPR for the Mix model, but the optimal parameter changes year to year. In conclusion, no changes to the algorithm, yet."
   ]
  },
  {
   "cell_type": "code",
   "execution_count": 1,
   "id": "878a5a9c",
   "metadata": {},
   "outputs": [],
   "source": [
    "import numpy as np\n",
    "import pandas as pd\n",
    "import matplotlib.pyplot as plt\n",
    "\n",
    "from sklearn.calibration import calibration_curve\n",
    "from sklearn.metrics import mean_squared_error"
   ]
  },
  {
   "cell_type": "code",
   "execution_count": 2,
   "id": "b3e10bbe",
   "metadata": {},
   "outputs": [],
   "source": [
    "matches = pd.read_csv(\"https://raw.githubusercontent.com/avgupta456/statbotics-csvs/main/matches.csv\")"
   ]
  },
  {
   "cell_type": "code",
   "execution_count": 3,
   "id": "db61cee1",
   "metadata": {},
   "outputs": [
    {
     "data": {
      "text/html": [
       "<div>\n",
       "<style scoped>\n",
       "    .dataframe tbody tr th:only-of-type {\n",
       "        vertical-align: middle;\n",
       "    }\n",
       "\n",
       "    .dataframe tbody tr th {\n",
       "        vertical-align: top;\n",
       "    }\n",
       "\n",
       "    .dataframe thead th {\n",
       "        text-align: right;\n",
       "    }\n",
       "</style>\n",
       "<table border=\"1\" class=\"dataframe\">\n",
       "  <thead>\n",
       "    <tr style=\"text-align: right;\">\n",
       "      <th></th>\n",
       "      <th>id</th>\n",
       "      <th>year</th>\n",
       "      <th>event_id</th>\n",
       "      <th>event</th>\n",
       "      <th>key</th>\n",
       "      <th>comp_level</th>\n",
       "      <th>set_number</th>\n",
       "      <th>match_number</th>\n",
       "      <th>red</th>\n",
       "      <th>red_elo_sum</th>\n",
       "      <th>...</th>\n",
       "      <th>blue_teleop_1</th>\n",
       "      <th>blue_teleop_2</th>\n",
       "      <th>blue_1</th>\n",
       "      <th>blue_2</th>\n",
       "      <th>blue_teleop</th>\n",
       "      <th>blue_endgame</th>\n",
       "      <th>blue_no_fouls</th>\n",
       "      <th>blue_fouls</th>\n",
       "      <th>blue_rp_1</th>\n",
       "      <th>blue_rp_2</th>\n",
       "    </tr>\n",
       "  </thead>\n",
       "  <tbody>\n",
       "    <tr>\n",
       "      <th>0</th>\n",
       "      <td>1</td>\n",
       "      <td>2002</td>\n",
       "      <td>1</td>\n",
       "      <td>2002ca</td>\n",
       "      <td>2002ca_f1m1</td>\n",
       "      <td>f</td>\n",
       "      <td>1</td>\n",
       "      <td>1</td>\n",
       "      <td>64,60</td>\n",
       "      <td>3150.19</td>\n",
       "      <td>...</td>\n",
       "      <td>NaN</td>\n",
       "      <td>NaN</td>\n",
       "      <td>NaN</td>\n",
       "      <td>NaN</td>\n",
       "      <td>NaN</td>\n",
       "      <td>NaN</td>\n",
       "      <td>NaN</td>\n",
       "      <td>NaN</td>\n",
       "      <td>NaN</td>\n",
       "      <td>NaN</td>\n",
       "    </tr>\n",
       "    <tr>\n",
       "      <th>1</th>\n",
       "      <td>2</td>\n",
       "      <td>2002</td>\n",
       "      <td>1</td>\n",
       "      <td>2002ca</td>\n",
       "      <td>2002ca_f1m2</td>\n",
       "      <td>f</td>\n",
       "      <td>1</td>\n",
       "      <td>2</td>\n",
       "      <td>64,60</td>\n",
       "      <td>3182.39</td>\n",
       "      <td>...</td>\n",
       "      <td>NaN</td>\n",
       "      <td>NaN</td>\n",
       "      <td>NaN</td>\n",
       "      <td>NaN</td>\n",
       "      <td>NaN</td>\n",
       "      <td>NaN</td>\n",
       "      <td>NaN</td>\n",
       "      <td>NaN</td>\n",
       "      <td>NaN</td>\n",
       "      <td>NaN</td>\n",
       "    </tr>\n",
       "    <tr>\n",
       "      <th>2</th>\n",
       "      <td>3</td>\n",
       "      <td>2002</td>\n",
       "      <td>1</td>\n",
       "      <td>2002ca</td>\n",
       "      <td>2002ca_qf1m1</td>\n",
       "      <td>qf</td>\n",
       "      <td>1</td>\n",
       "      <td>1</td>\n",
       "      <td>64,60</td>\n",
       "      <td>3073.91</td>\n",
       "      <td>...</td>\n",
       "      <td>NaN</td>\n",
       "      <td>NaN</td>\n",
       "      <td>NaN</td>\n",
       "      <td>NaN</td>\n",
       "      <td>NaN</td>\n",
       "      <td>NaN</td>\n",
       "      <td>NaN</td>\n",
       "      <td>NaN</td>\n",
       "      <td>NaN</td>\n",
       "      <td>NaN</td>\n",
       "    </tr>\n",
       "    <tr>\n",
       "      <th>3</th>\n",
       "      <td>4</td>\n",
       "      <td>2002</td>\n",
       "      <td>1</td>\n",
       "      <td>2002ca</td>\n",
       "      <td>2002ca_qf1m2</td>\n",
       "      <td>qf</td>\n",
       "      <td>1</td>\n",
       "      <td>2</td>\n",
       "      <td>64,60</td>\n",
       "      <td>3091.97</td>\n",
       "      <td>...</td>\n",
       "      <td>NaN</td>\n",
       "      <td>NaN</td>\n",
       "      <td>NaN</td>\n",
       "      <td>NaN</td>\n",
       "      <td>NaN</td>\n",
       "      <td>NaN</td>\n",
       "      <td>NaN</td>\n",
       "      <td>NaN</td>\n",
       "      <td>NaN</td>\n",
       "      <td>NaN</td>\n",
       "    </tr>\n",
       "    <tr>\n",
       "      <th>4</th>\n",
       "      <td>5</td>\n",
       "      <td>2002</td>\n",
       "      <td>1</td>\n",
       "      <td>2002ca</td>\n",
       "      <td>2002ca_qf2m1</td>\n",
       "      <td>qf</td>\n",
       "      <td>2</td>\n",
       "      <td>1</td>\n",
       "      <td>962,599</td>\n",
       "      <td>3025.81</td>\n",
       "      <td>...</td>\n",
       "      <td>NaN</td>\n",
       "      <td>NaN</td>\n",
       "      <td>NaN</td>\n",
       "      <td>NaN</td>\n",
       "      <td>NaN</td>\n",
       "      <td>NaN</td>\n",
       "      <td>NaN</td>\n",
       "      <td>NaN</td>\n",
       "      <td>NaN</td>\n",
       "      <td>NaN</td>\n",
       "    </tr>\n",
       "  </tbody>\n",
       "</table>\n",
       "<p>5 rows × 61 columns</p>\n",
       "</div>"
      ],
      "text/plain": [
       "   id  year  event_id   event           key comp_level  set_number  \\\n",
       "0   1  2002         1  2002ca   2002ca_f1m1          f           1   \n",
       "1   2  2002         1  2002ca   2002ca_f1m2          f           1   \n",
       "2   3  2002         1  2002ca  2002ca_qf1m1         qf           1   \n",
       "3   4  2002         1  2002ca  2002ca_qf1m2         qf           1   \n",
       "4   5  2002         1  2002ca  2002ca_qf2m1         qf           2   \n",
       "\n",
       "   match_number      red  red_elo_sum  ...  blue_teleop_1  blue_teleop_2  \\\n",
       "0             1    64,60      3150.19  ...            NaN            NaN   \n",
       "1             2    64,60      3182.39  ...            NaN            NaN   \n",
       "2             1    64,60      3073.91  ...            NaN            NaN   \n",
       "3             2    64,60      3091.97  ...            NaN            NaN   \n",
       "4             1  962,599      3025.81  ...            NaN            NaN   \n",
       "\n",
       "   blue_1 blue_2  blue_teleop  blue_endgame  blue_no_fouls  blue_fouls  \\\n",
       "0     NaN    NaN          NaN           NaN            NaN         NaN   \n",
       "1     NaN    NaN          NaN           NaN            NaN         NaN   \n",
       "2     NaN    NaN          NaN           NaN            NaN         NaN   \n",
       "3     NaN    NaN          NaN           NaN            NaN         NaN   \n",
       "4     NaN    NaN          NaN           NaN            NaN         NaN   \n",
       "\n",
       "  blue_rp_1 blue_rp_2  \n",
       "0       NaN       NaN  \n",
       "1       NaN       NaN  \n",
       "2       NaN       NaN  \n",
       "3       NaN       NaN  \n",
       "4       NaN       NaN  \n",
       "\n",
       "[5 rows x 61 columns]"
      ]
     },
     "execution_count": 3,
     "metadata": {},
     "output_type": "execute_result"
    }
   ],
   "source": [
    "matches.head()"
   ]
  },
  {
   "cell_type": "code",
   "execution_count": 4,
   "id": "e7f075ec",
   "metadata": {},
   "outputs": [],
   "source": [
    "dataset = matches[matches.year == 2019]\n",
    "\n",
    "actual = dataset.winner.apply(lambda x: 1 if x == \"red\" else 0)\n",
    "predicted_elo = dataset.elo_win_prob\n",
    "predicted_opr = dataset.opr_win_prob\n",
    "predicted_mix = dataset.mix_win_prob\n",
    "\n",
    "n_bins = 10\n",
    "elo_calibration = calibration_curve(actual, predicted_elo, n_bins = n_bins)\n",
    "opr_calibration = calibration_curve(actual, predicted_opr, n_bins = n_bins)\n",
    "mix_calibration = calibration_curve(actual, predicted_mix, n_bins = n_bins)"
   ]
  },
  {
   "cell_type": "code",
   "execution_count": 5,
   "id": "8d7a6917",
   "metadata": {},
   "outputs": [
    {
     "name": "stderr",
     "output_type": "stream",
     "text": [
      "C:\\Users\\Abhijit\\AppData\\Local\\Temp/ipykernel_22428/441849.py:10: UserWarning: Matplotlib is currently using module://matplotlib_inline.backend_inline, which is a non-GUI backend, so cannot show the figure.\n",
      "  fig.show()\n"
     ]
    },
    {
     "data": {
      "image/png": "[encoded data removed]",
      "text/plain": [
       "<Figure size 432x288 with 1 Axes>"
      ]
     },
     "metadata": {
      "needs_background": "light"
     },
     "output_type": "display_data"
    }
   ],
   "source": [
    "fig, ax = plt.subplots()\n",
    "ax.plot([0, 1], [0, 1])\n",
    "ax.scatter(elo_calibration[1], elo_calibration[0], label=\"Elo\")\n",
    "ax.scatter(opr_calibration[1], opr_calibration[0], label=\"OPR\")\n",
    "ax.scatter(mix_calibration[1], mix_calibration[0], label=\"Mix\")\n",
    "ax.set_xlabel(\"Predicted Probability\")\n",
    "ax.set_ylabel(\"Actual - Predicted\")\n",
    "ax.legend()\n",
    "\n",
    "fig.show()"
   ]
  },
  {
   "cell_type": "code",
   "execution_count": 6,
   "id": "cdbcfbce",
   "metadata": {},
   "outputs": [
    {
     "name": "stdout",
     "output_type": "stream",
     "text": [
      "Elo\t 0.18805724779628422\n",
      "OPR\t 0.19140628031640108\n",
      "Mix\t 0.18279952600380353\n",
      "Best\t 0.1826984082805531 0.56\n"
     ]
    },
    {
     "name": "stderr",
     "output_type": "stream",
     "text": [
      "C:\\Users\\Abhijit\\AppData\\Local\\Temp/ipykernel_22428/647290946.py:17: UserWarning: Matplotlib is currently using module://matplotlib_inline.backend_inline, which is a non-GUI backend, so cannot show the figure.\n",
      "  fig.show()\n"
     ]
    },
    {
     "data": {
      "image/png": "[encoded data removed]",
      "text/plain": [
       "<Figure size 432x288 with 1 Axes>"
      ]
     },
     "metadata": {
      "needs_background": "light"
     },
     "output_type": "display_data"
    }
   ],
   "source": [
    "x = []\n",
    "y = []\n",
    "\n",
    "min_mse, best_elo_rate = 1, -1\n",
    "\n",
    "for i in range(100):\n",
    "    elo_rate = i / 100\n",
    "    x.append(elo_rate)\n",
    "    predicted = elo_rate * predicted_elo + (1 - elo_rate) * predicted_opr\n",
    "    mse = mean_squared_error(actual, predicted)\n",
    "    if mse < min_mse:\n",
    "        min_mse, best_elo_rate = mse, elo_rate\n",
    "    y.append(mse)\n",
    "    \n",
    "fig, ax = plt.subplots()\n",
    "ax.scatter(x, y)\n",
    "fig.show()\n",
    "\n",
    "print(\"Elo\\t\", mean_squared_error(actual, predicted_elo))\n",
    "print(\"OPR\\t\", mean_squared_error(actual, predicted_opr))\n",
    "print(\"Mix\\t\", mean_squared_error(actual, predicted_mix))\n",
    "print(\"Best\\t\", min_mse, best_elo_rate)"
   ]
  },
  {
   "cell_type": "code",
   "execution_count": null,
   "id": "c35e64b0",
   "metadata": {},
   "outputs": [],
   "source": []
  }
 ],
 "metadata": {
  "kernelspec": {
   "display_name": "Python 3 (ipykernel)",
   "language": "python",
   "name": "python3"
  },
  "language_info": {
   "codemirror_mode": {
    "name": "ipython",
    "version": 3
   },
   "file_extension": ".py",
   "mimetype": "text/x-python",
   "name": "python",
   "nbconvert_exporter": "python",
   "pygments_lexer": "ipython3",
   "version": "3.8.6"
  }
 },
 "nbformat": 4,
 "nbformat_minor": 5
}
