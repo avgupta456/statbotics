{
 "cells": [
  {
   "cell_type": "markdown",
   "metadata": {},
   "source": [
    "# Statbotics Python API Documentation\n",
    "\n",
    "Statbotics.io aims to modernize FRC data analytics through developing and distributing advanced metrics such as Elo and OPR. We have created a Python API to easily query these metrics. This document will serve as a guide to using the API. Enjoy!"
   ]
  },
  {
   "cell_type": "markdown",
   "metadata": {},
   "source": [
    "The Statbotics API is available on PyPI and can be installed using pip. On your local machine, run **\"python -m pip install statbotics\"**\n",
    "\n",
    "Having installed the library, we can now use it in our code. The following cell shows the minimal setup required.\n",
    "\n",
    "Resources:\n",
    "\n",
    "* Website: https://statbotics.io/\n",
    "\n",
    "* Documentation: https://statbotics.readthedocs.io/en/latest/\n",
    "\n",
    "* Github: https://github.com/avgupta456/statbotics\n",
    "\n",
    "* Chief Delphi: https://www.chiefdelphi.com/t/introducing-statbotics-io-modernizing-frc-data-analytics/385360"
   ]
  },
  {
   "cell_type": "code",
   "execution_count": 1,
   "metadata": {},
   "outputs": [],
   "source": [
    "import statbotics\n",
    "\n",
    "sb = statbotics.Statbotics()"
   ]
  },
  {
   "cell_type": "markdown",
   "metadata": {},
   "source": [
    "The Statbotics API lets you query the following objects:\n",
    "1. **Teams**: Get a team's location and Elo statistics (Current Elo, Recent Elo, Mean Elo, Max Elo)\n",
    "2. **Years**: Get the prediction accuracy and Brier score using Elo and OPR to predict matches, and ILS to predict RPs\n",
    "3. **TeamYears**: Get a team's performance in a specific year (Start Elo, Pre-Champs Elo, End Elo, ... , Component OPRs, ILS)\n",
    "4. **Events**: Get summary statistics for a given event (Type, Week, Top 8 Elos, Top 24 Elos, Top 8 OPRs, Top 24 OPRs)\n",
    "5. **TeamEvents**: Get a team's performance in a specific event (Start Elo, Pre-Playoffs Elo, End Elo, ..., Component OPRs, ILS)\n",
    "6. **Matches**: Get statistics for a specific match (score breakdown, Elo, OPR, ILS predictions)\n",
    "7. **TeamMatches**: Get information for a specific team in a specific match (Match, Alliance, Elo)\n",
    "\n",
    "For each of these seven objects, there are functions to return a specific object, or a list of objects by certain criteria. Each object is returned as a dictionary mapping columns to specific values. Let's look at some examples!"
   ]
  },
  {
   "cell_type": "markdown",
   "metadata": {},
   "source": [
    "## get_team()\n",
    "\n",
    "The get_team() function returns information on a specific team. Let's see how we can get the Elo statistics for my team, FRC 5511 Cortechs Robotics."
   ]
  },
  {
   "cell_type": "code",
   "execution_count": 2,
   "metadata": {},
   "outputs": [
    {
     "name": "stdout",
     "output_type": "stream",
     "text": [
      "{'team': 5511, 'name': 'Cortechs Robotics', 'state': 'NC', 'country': 'USA', 'district': 'fnc', 'active': 1, 'elo': 1699, 'elo_recent': 1657, 'elo_mean': 1603, 'elo_max': 1699, 'wins': 152, 'losses': 117, 'ties': 5, 'count': 274, 'winrate': 0.5639}\n",
      "\n",
      "Team  5511 has a current Elo of 1699\n"
     ]
    }
   ],
   "source": [
    "data  = sb.get_team(5511)\n",
    "print(data)\n",
    "print()\n",
    "\n",
    "print(\"Team \", data[\"team\"], \"has a current Elo of\", data[\"elo\"])"
   ]
  },
  {
   "cell_type": "markdown",
   "metadata": {},
   "source": [
    "It's that simple! We can see the name, state, district, country, active status, and elo statistics. As a quick primer, Elo is a measure of team strength, updated after each match based on predicted and actual winning margin. An Elo of 1500 is average and an Elo of 1800 corresponds roughly to the 99% percentile."
   ]
  },
  {
   "cell_type": "markdown",
   "metadata": {},
   "source": [
    "## get_teams()\n",
    "\n",
    "The get_teams() function returns information on multiple teams, and supports multiple filters. We can pass arguments to filter by country, state, district, and active status. We can also order the output by a metric, and limit the output to a number of entries to speed up the query. Check https://statbotics.readthedocs.io/en/latest/ for all the details! For now, let's see how we can get the top 10 teams by recent elo."
   ]
  },
  {
   "cell_type": "code",
   "execution_count": 3,
   "metadata": {},
   "outputs": [
    {
     "name": "stdout",
     "output_type": "stream",
     "text": [
      "Top 10 teams by Recent Elo\n",
      "\n",
      "Rank\t Team\t Elo\n",
      "1 \t 254 \t 1977\n",
      "2 \t 2056 \t 1950\n",
      "3 \t 1678 \t 1915\n",
      "4 \t 148 \t 1908\n",
      "5 \t 195 \t 1894\n",
      "6 \t 2046 \t 1878\n",
      "7 \t 2481 \t 1876\n",
      "8 \t 118 \t 1874\n",
      "9 \t 2910 \t 1863\n",
      "10 \t 225 \t 1860\n"
     ]
    }
   ],
   "source": [
    "print(\"Top 10 teams by Recent Elo\")\n",
    "print()\n",
    "\n",
    "data = sb.get_teams(metric=\"elo_recent\", limit=10, fields=[\"team\", \"elo_recent\"])\n",
    "\n",
    "print(\"Rank\\t Team\\t Elo\")\n",
    "for i, entry in enumerate(data):\n",
    "    print(i+1, \"\\t\", entry[\"team\"], \"\\t\", entry[\"elo_recent\"])"
   ]
  },
  {
   "cell_type": "markdown",
   "metadata": {},
   "source": [
    "## get_year() and get_years()\n",
    "\n",
    "These functions return information on year objects. Each dictionary contains the year, accuracy (acc) and mean-squared-error (mse) for match predictions that year (using Elo, OPR, and a mixed approach), and accuracy and mean-squared-error for ranking point predictions (2016-Present) using Caleb Sykes' ILS metric."
   ]
  },
  {
   "cell_type": "code",
   "execution_count": 4,
   "metadata": {},
   "outputs": [
    {
     "name": "stdout",
     "output_type": "stream",
     "text": [
      "Years Ranked By Match Prediction Accuracy\n",
      "\n",
      "Year\t Accuracy\t MSE\n",
      "2018 \t 0.7399 \t 0.1744\n",
      "2013 \t 0.7364 \t 0.1713\n",
      "2019 \t 0.7133 \t 0.1776\n",
      "2014 \t 0.7098 \t 0.1857\n",
      "2015 \t 0.7093 \t 0.1806\n",
      "2011 \t 0.7075 \t 0.1699\n",
      "2020 \t 0.7064 \t 0.1858\n",
      "2016 \t 0.7039 \t 0.1841\n",
      "2012 \t 0.6939 \t 0.1843\n",
      "2009 \t 0.6773 \t 0.1971\n",
      "2006 \t 0.6634 \t 0.2019\n",
      "2008 \t 0.6598 \t 0.193\n",
      "2017 \t 0.6591 \t 0.2033\n",
      "2005 \t 0.6542 \t 0.2079\n",
      "2004 \t 0.6391 \t 0.2046\n",
      "2010 \t 0.6244 \t 0.1778\n",
      "2003 \t 0.6215 \t 0.2236\n",
      "2007 \t 0.6055 \t 0.2139\n",
      "2002 \t 0.5389 \t 0.243\n"
     ]
    }
   ],
   "source": [
    "print(\"Years Ranked By Match Prediction Accuracy\")\n",
    "print()\n",
    "\n",
    "data = sb.get_years(metric=\"mix_acc\", fields=[\"year\", \"mix_acc\", \"mix_mse\"])\n",
    "\n",
    "print(\"Year\\t Accuracy\\t MSE\")\n",
    "for entry in data:\n",
    "    print(entry[\"year\"], \"\\t\", str(entry[\"mix_acc\"]).ljust(6), \"\\t\", entry[\"mix_mse\"])"
   ]
  },
  {
   "cell_type": "markdown",
   "metadata": {},
   "source": [
    "## get_team_year() and get_team_years()\n",
    "\n",
    "We also can get information for a specific team during a specific year (ex. 254 during 2018). The output dictionary includes the team, year, location information, Elo statistics (Start, Pre-Champs, End, Mean, Max, Diff), and component OPR statistics (using ixOPR with 2 iterations). \n",
    "\n",
    "Let's see how we can get the top 25 most dominant seasons of all time (keeping in mind it is easier to dominate in certain years)."
   ]
  },
  {
   "cell_type": "code",
   "execution_count": 5,
   "metadata": {},
   "outputs": [
    {
     "name": "stdout",
     "output_type": "stream",
     "text": [
      "Top 25 End of Season Elos of All Time\n",
      "\n",
      "Rank\t Team\t Year\t Elo Max\n",
      "1 \t 469 \t 2010 \t 2272\n",
      "2 \t 1114 \t 2010 \t 2254\n",
      "3 \t 1114 \t 2015 \t 2215\n",
      "4 \t 254 \t 2015 \t 2181\n",
      "5 \t 1114 \t 2007 \t 2155\n",
      "6 \t 1114 \t 2013 \t 2117\n",
      "7 \t 2056 \t 2013 \t 2108\n",
      "8 \t 1114 \t 2008 \t 2105\n",
      "9 \t 469 \t 2012 \t 2098\n",
      "10 \t 2056 \t 2015 \t 2086\n",
      "11 \t 1114 \t 2014 \t 2085\n",
      "12 \t 330 \t 2007 \t 2077\n",
      "13 \t 254 \t 2014 \t 2076\n",
      "14 \t 67 \t 2010 \t 2068\n",
      "15 \t 118 \t 2015 \t 2067\n",
      "16 \t 254 \t 2018 \t 2060\n",
      "17 \t 1114 \t 2011 \t 2059\n",
      "18 \t 1678 \t 2015 \t 2059\n",
      "19 \t 2056 \t 2010 \t 2046\n",
      "20 \t 1023 \t 2015 \t 2041\n",
      "21 \t 2056 \t 2018 \t 2037\n",
      "22 \t 25 \t 2007 \t 2036\n",
      "23 \t 25 \t 2006 \t 2028\n",
      "24 \t 469 \t 2013 \t 2026\n",
      "25 \t 2056 \t 2011 \t 2026\n",
      "\n"
     ]
    }
   ],
   "source": [
    "print(\"Top 25 End of Season Elos of All Time\")\n",
    "print()\n",
    "\n",
    "data = sb.get_team_years(metric=\"elo_max\", limit=25, fields=[\"team\", \"year\", \"elo_max\"])\n",
    "\n",
    "print(\"Rank\\t Team\\t Year\\t Elo Max\")\n",
    "for i, entry in enumerate(data):\n",
    "    print(i + 1, \"\\t\", entry[\"team\"], \"\\t\", entry[\"year\"], \"\\t\", entry[\"elo_max\"])\n",
    "print()"
   ]
  },
  {
   "cell_type": "markdown",
   "metadata": {},
   "source": [
    "## get_event() and get_events()\n",
    "\n",
    "These two functions return information on events. For a given event, we can get the key, name, week, type (regional, district, etc), Elo statistics (Top 8, Top 24, Mean), and OPR statistics (Top 8, Top 24, Mean).\n",
    "\n",
    "This example gets the average \"Top 8 OPR\" by event type (regional, district, district champ, worlds division, einstein)"
   ]
  },
  {
   "cell_type": "code",
   "execution_count": 6,
   "metadata": {},
   "outputs": [
    {
     "name": "stdout",
     "output_type": "stream",
     "text": [
      "Average Top 8 Elo by Event Type, 2019\n",
      "\n",
      "Type\t\t\t Top 8 OPR\n",
      "regional        \t 23.22\n",
      "district        \t 21.52\n",
      "district champs \t 27.47\n",
      "worlds division \t 33.2\n",
      "einstein        \t 31.97\n"
     ]
    }
   ],
   "source": [
    "print(\"Average Top 8 Elo by Event Type, 2019\")\n",
    "print()\n",
    "\n",
    "types = {\n",
    "    0: \"regional\",\n",
    "    1: \"district\",\n",
    "    2: \"district champs\",\n",
    "    3: \"worlds division\",\n",
    "    4: \"einstein\",\n",
    "}\n",
    "\n",
    "print(\"Type\\t\\t\\t Top 8 OPR\")\n",
    "for key, name in types.items():\n",
    "    data = sb.get_events(year=2019, type=key, fields=[\"opr_top8\"])\n",
    "    average = round(sum([r[\"opr_top8\"] for r in data if r[\"opr_top8\"] is not None]) / len(data), 2)\n",
    "    print(name.ljust(15), \"\\t\", average)"
   ]
  },
  {
   "cell_type": "markdown",
   "metadata": {},
   "source": [
    "## get_team_event() and get_team_events()\n",
    "\n",
    "Similar to get_team_years(), we can get statistics on how a team fared in a specific event. This information includes the team, event information (week, type, etc), Elo statistics (Start, Pre-Playoffs, End, Mean, Max, Diff), and component OPR statistics.\n",
    "\n",
    "Let's take a look at 469's start and end Elo per event during the 2010 season, which remains the highest Elo ratings ever recorded in FRC."
   ]
  },
  {
   "cell_type": "code",
   "execution_count": 7,
   "metadata": {},
   "outputs": [
    {
     "name": "stdout",
     "output_type": "stream",
     "text": [
      "469 Elo through 2010 Events\n",
      "\n",
      "Event Key\t Start\t End Elo\n",
      "2010dt1    \t 1670 \t 1772\n",
      "2010oc     \t 1772 \t 2172\n",
      "2010gl     \t 2172 \t 2229\n",
      "2010cur    \t 2229 \t 2190\n",
      "2010cmp    \t 2190 \t 2172\n",
      "\n"
     ]
    }
   ],
   "source": [
    "print(\"469 Elo through 2010 Events\")\n",
    "print()\n",
    "\n",
    "data = sb.get_team_events(team=469, year=2010, metric=\"-time\", fields=[\"event\", \"elo_start\", \"elo_end\"])\n",
    "\n",
    "print(\"Event Key\\t Start\\t End Elo\")\n",
    "for entry in data:\n",
    "    print(entry[\"event\"].ljust(10), \"\\t\", entry[\"elo_start\"], \"\\t\", entry[\"elo_end\"])\n",
    "print()"
   ]
  },
  {
   "cell_type": "markdown",
   "metadata": {},
   "source": [
    "## get_match() and get_matches()\n",
    "\n",
    "If you are interested in score breakdowns and individual predictions, these are the functions for you! These methods return a lot of information on the match (elims, set number, match number), scores (component breakdown for both alliances), and predictions (RP predictions and predicted winner by Elo, OPR, mixed method)\n",
    "\n",
    "We can see how Statbotics.io predicted matches for 2019 Houston Einstein Championships (Spoiler Alert: 78% Accuracy)"
   ]
  },
  {
   "cell_type": "code",
   "execution_count": 8,
   "metadata": {},
   "outputs": [
    {
     "name": "stdout",
     "output_type": "stream",
     "text": [
      "Match Predictions for 2019 Houston Champs\n",
      "\n",
      "Match Key\t\t Actual\t\t Predicted\tRed Win Prob\n",
      "2019cmptx_sf1m1 \t blue \t\t red \t\t 0.5327\n",
      "2019cmptx_sf1m2 \t red \t\t red \t\t 0.5613\n",
      "2019cmptx_sf1m3 \t blue \t\t blue \t\t 0.1432\n",
      "2019cmptx_sf1m4 \t blue \t\t blue \t\t 0.3855\n",
      "2019cmptx_sf1m5 \t red \t\t blue \t\t 0.3037\n",
      "2019cmptx_sf1m6 \t red \t\t red \t\t 0.8074\n",
      "2019cmptx_sf1m7 \t blue \t\t blue \t\t 0.3188\n",
      "2019cmptx_sf1m8 \t blue \t\t red \t\t 0.7062\n",
      "2019cmptx_sf1m9 \t red \t\t blue \t\t 0.4284\n",
      "2019cmptx_sf1m10 \t blue \t\t blue \t\t 0.3231\n",
      "2019cmptx_sf1m11 \t red \t\t red \t\t 0.578\n",
      "2019cmptx_sf1m12 \t blue \t\t red \t\t 0.5456\n",
      "2019cmptx_sf1m13 \t blue \t\t red \t\t 0.5963\n",
      "2019cmptx_sf1m14 \t blue \t\t blue \t\t 0.312\n",
      "2019cmptx_sf1m15 \t red \t\t red \t\t 0.6359\n",
      "2019cmptx_f1m1  \t red \t\t blue \t\t 0.3695\n",
      "2019cmptx_f1m2  \t blue \t\t blue \t\t 0.3838\n",
      "2019cmptx_f1m3  \t blue \t\t blue \t\t 0.3652\n"
     ]
    }
   ],
   "source": [
    "print(\"Match Predictions for 2019 Houston Champs\")\n",
    "print()\n",
    "\n",
    "matches = sb.get_matches(event=\"2019cmptx\", elims=True, fields=[\"key\", \"winner\", \"mix_winner\", \"mix_win_prob\"])\n",
    "\n",
    "print(\"Match Key\\t\\t Actual\\t\\t Predicted\\tRed Win Prob\")\n",
    "for match in matches:\n",
    "    print(match[\"key\"].ljust(15), \"\\t\", match[\"winner\"], \"\\t\\t\", match[\"mix_winner\"], \"\\t\\t\", match[\"mix_win_prob\"])"
   ]
  },
  {
   "cell_type": "markdown",
   "metadata": {},
   "source": [
    "## get_team_match() and get_team_matches()\n",
    "\n",
    "Our final two methods, these are mostly here for completion, though I'm sure there are creative uses for these. Each dictionary only returns the team, match, alliance, and Elo prior to the match being played. \n",
    "\n",
    "In this example, we see how many matches Team 125 plays per year (they've averaged 100+ since 2014!)"
   ]
  },
  {
   "cell_type": "code",
   "execution_count": 9,
   "metadata": {},
   "outputs": [
    {
     "name": "stdout",
     "output_type": "stream",
     "text": [
      "Team 125 Matches played by Year\n",
      "\n",
      "Year\t Matches\n",
      "2002 \t 18\n",
      "2003 \t 27\n",
      "2004 \t 20\n",
      "2005 \t 8\n",
      "2006 \t 29\n",
      "2007 \t 24\n",
      "2008 \t 26\n",
      "2009 \t 20\n",
      "2010 \t 19\n",
      "2011 \t 34\n",
      "2012 \t 41\n",
      "2013 \t 62\n",
      "2014 \t 98\n",
      "2015 \t 99\n",
      "2016 \t 107\n",
      "2017 \t 107\n",
      "2018 \t 97\n",
      "2019 \t 103\n",
      "\n"
     ]
    }
   ],
   "source": [
    "print(\"Team 125 Matches played by Year\")\n",
    "print()\n",
    "\n",
    "data = sb.get_team_matches(team=125, fields=[\"year\"])\n",
    "\n",
    "years = {i: 0 for i in range(2002, 2020)}\n",
    "for match in data:\n",
    "    years[match[\"year\"]] += 1\n",
    "    \n",
    "print(\"Year\\t Matches\")\n",
    "for year, matches in years.items():\n",
    "    print(year, \"\\t\", matches)\n",
    "print()"
   ]
  },
  {
   "cell_type": "markdown",
   "metadata": {},
   "source": [
    "That's all for this demonstration. I hope you have a better understanding of how the API works, and I look forward to seeing all the cool things everyone does with this!"
   ]
  }
 ],
 "metadata": {
  "kernelspec": {
   "display_name": "Python 3 (ipykernel)",
   "language": "python",
   "name": "python3"
  },
  "language_info": {
   "codemirror_mode": {
    "name": "ipython",
    "version": 3
   },
   "file_extension": ".py",
   "mimetype": "text/x-python",
   "name": "python",
   "nbconvert_exporter": "python",
   "pygments_lexer": "ipython3",
   "version": "3.8.6"
  }
 },
 "nbformat": 4,
 "nbformat_minor": 4
}
