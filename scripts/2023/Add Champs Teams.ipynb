{
 "cells": [
  {
   "cell_type": "code",
   "execution_count": null,
   "id": "3a176107",
   "metadata": {},
   "outputs": [],
   "source": [
    "import pandas as pd\n",
    "\n",
    "import statbotics\n",
    "\n",
    "sb = statbotics.Statbotics()"
   ]
  },
  {
   "cell_type": "code",
   "execution_count": null,
   "id": "176a648c",
   "metadata": {},
   "outputs": [],
   "source": [
    "team_years = sb.get_team_years(year=2023, limit=10000)\n",
    "\n",
    "team_years_dict = {t[\"team\"]: t for t in team_years}\n",
    "\n",
    "print(team_years_dict[2056])"
   ]
  },
  {
   "cell_type": "code",
   "execution_count": null,
   "id": "894d1611",
   "metadata": {},
   "outputs": [],
   "source": [
    "teams = pd.read_json(\"../../data/2023/team_list.json\")"
   ]
  },
  {
   "cell_type": "code",
   "execution_count": null,
   "id": "a05011d1",
   "metadata": {},
   "outputs": [],
   "source": [
    "{\n",
    "\"team\": 1577,\n",
    "\"year\": 2023,\n",
    "\"event\": \"2023isde1\",\n",
    "\"offseason\": false,\n",
    "\"team_name\": \"Steampunk\",\n",
    "\"event_name\": \"ISR District Event #1\",\n",
    "\"state\": null,\n",
    "\"country\": \"Israel\",\n",
    "\"district\": \"isr\",\n",
    "\"type\": 1,\n",
    "\"week\": 1,\n",
    "\"status\": \"Completed\",\n",
    "\"first_event\": true,\n",
    "\"epa_start\": 44.48,\n",
    "\"epa_pre_playoffs\": 61.46,\n",
    "\"epa_end\": 61.38,\n",
    "\"epa_mean\": 54.61,\n",
    "\"epa_max\": 61.46,\n",
    "\"epa_diff\": 16.9,\n",
    "\"auto_epa_start\": 12.34,\n",
    "\"auto_epa_pre_playoffs\": 12.98,\n",
    "\"auto_epa_end\": 12.95,\n",
    "\"auto_epa_mean\": 12.59,\n",
    "\"auto_epa_max\": 13.62,\n",
    "\"teleop_epa_start\": 20.68,\n",
    "\"teleop_epa_pre_playoffs\": 39.27,\n",
    "\"teleop_epa_end\": 39.76,\n",
    "\"teleop_epa_mean\": 32.43,\n",
    "\"teleop_epa_max\": 39.76,\n",
    "\"endgame_epa_start\": 11.46,\n",
    "\"endgame_epa_pre_playoffs\": 9.21,\n",
    "\"endgame_epa_end\": 8.68,\n",
    "\"endgame_epa_mean\": 9.58,\n",
    "\"endgame_epa_max\": 11.46,\n",
    "\"rp_1_epa_start\": 0.0562,\n",
    "\"rp_1_epa_end\": 0.3577,\n",
    "\"rp_1_epa_mean\": 0.1789,\n",
    "\"rp_1_epa_max\": 0.3679,\n",
    "\"rp_2_epa_start\": 0.3051,\n",
    "\"rp_2_epa_end\": 0.5143,\n",
    "\"rp_2_epa_mean\": 0.4048,\n",
    "\"rp_2_epa_max\": 0.5143,\n",
    "\"wins\": 17,\n",
    "\"losses\": 0,\n",
    "\"ties\": 0,\n",
    "\"count\": 17,\n",
    "\"winrate\": 1,\n",
    "\"qual_wins\": 12,\n",
    "\"qual_losses\": 0,\n",
    "\"qual_ties\": 0,\n",
    "\"qual_count\": 12,\n",
    "\"qual_winrate\": 1,\n",
    "\"rps\": 38,\n",
    "\"rps_per_match\": 3.1666666666666665,\n",
    "\"rank\": 1,\n",
    "\"num_teams\": 25\n",
    "}"
   ]
  },
  {
   "cell_type": "code",
   "execution_count": null,
   "id": "3064e542",
   "metadata": {
    "scrolled": false
   },
   "outputs": [],
   "source": [
    "division_to_key = {\n",
    "    \"Archimedes\": \"2023arc\",\n",
    "    \"Newton\": \"2023new\",\n",
    "    \"Johnson\": \"2023joh\",\n",
    "    \"Daly\": \"2023dal\",\n",
    "    \"Milstein\": \"2023mil\",\n",
    "    \"Galileo\": \"2023gal\",\n",
    "    \"Hopper\": \"2023hop\",\n",
    "    \"Curie\": \"2023cur\",\n",
    "}\n",
    "\n",
    "for _, r in teams.iloc[40:].iterrows():\n",
    "    t = team_years_dict[r.team_number]\n",
    "    if r[\"division_name\"] is None:\n",
    "        continue\n",
    "    out = \"INSERT INTO team_events (team, year, event, offseason, team_name, event_name, state, country, district, type, week, status, first_event, epa_start, epa_pre_playoffs, epa_end, epa_mean, epa_max, epa_diff, auto_epa_start, auto_epa_pre_playoffs, auto_epa_end, auto_epa_mean, auto_epa_max, teleop_epa_start, teleop_epa_pre_playoffs, teleop_epa_end, teleop_epa_mean, teleop_epa_max, endgame_epa_start, endgame_epa_pre_playoffs, endgame_epa_end, endgame_epa_mean, endgame_epa_max, rp_1_epa_start, rp_1_epa_end, rp_1_epa_mean, rp_1_epa_max, rp_2_epa_start, rp_2_epa_end, rp_2_epa_mean, rp_2_epa_max, wins, losses, ties, count, winrate, qual_wins, qual_losses, qual_ties, qual_count, qual_winrate, rps, rps_per_match, rank, num_teams) VALUES (\" + \", \".join((\"'\" + x + \"'\" if isinstance(x, str) else str(x)) for x in [t[\"team\"], t[\"year\"], division_to_key[r[\"division_name\"]], False, t[\"name\"].replace(\"'\", \"\"), r[\"division_name\"] + \" Division\", \"TX\", \"USA\", None, 3, 8, \"Upcoming\", False, t[\"epa_end\"], t[\"epa_end\"], t[\"epa_end\"], t[\"epa_end\"], t[\"epa_end\"], 0, t[\"auto_epa_end\"], t[\"auto_epa_end\"], t[\"auto_epa_end\"], t[\"auto_epa_end\"], t[\"auto_epa_end\"], t[\"teleop_epa_end\"], t[\"teleop_epa_end\"], t[\"teleop_epa_end\"], t[\"teleop_epa_end\"], t[\"teleop_epa_end\"], t[\"endgame_epa_end\"], t[\"endgame_epa_end\"], t[\"endgame_epa_end\"], t[\"endgame_epa_end\"], t[\"endgame_epa_end\"], t[\"rp_1_epa_end\"], t[\"rp_1_epa_end\"], t[\"rp_1_epa_end\"], t[\"rp_1_epa_end\"], t[\"rp_2_epa_end\"], t[\"rp_2_epa_end\"], t[\"rp_2_epa_end\"], t[\"rp_2_epa_end\"], 0, 0, 0, 0, 0, 0, 0, 0, 0, 0, 0, 0, -1, 78]) + \");\"\n",
    "    print(out.replace(\"None\", \"null\"))"
   ]
  },
  {
   "cell_type": "code",
   "execution_count": null,
   "id": "f6604731",
   "metadata": {},
   "outputs": [],
   "source": []
  }
 ],
 "metadata": {
  "kernelspec": {
   "display_name": "Python 3 (ipykernel)",
   "language": "python",
   "name": "python3"
  },
  "language_info": {
   "codemirror_mode": {
    "name": "ipython",
    "version": 3
   },
   "file_extension": ".py",
   "mimetype": "text/x-python",
   "name": "python",
   "nbconvert_exporter": "python",
   "pygments_lexer": "ipython3",
   "version": "3.11.2"
  }
 },
 "nbformat": 4,
 "nbformat_minor": 5
}
