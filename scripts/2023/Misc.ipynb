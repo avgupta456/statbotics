{
 "cells": [
  {
   "cell_type": "code",
   "execution_count": 10,
   "id": "376091b2",
   "metadata": {},
   "outputs": [],
   "source": [
    "from collections import defaultdict\n",
    "\n",
    "import pandas as pd\n",
    "\n",
    "import statbotics\n",
    "\n",
    "sb = statbotics.Statbotics()"
   ]
  },
  {
   "cell_type": "code",
   "execution_count": 5,
   "id": "901d5d69",
   "metadata": {},
   "outputs": [
    {
     "data": {
      "text/html": [
       "<div>\n",
       "<style scoped>\n",
       "    .dataframe tbody tr th:only-of-type {\n",
       "        vertical-align: middle;\n",
       "    }\n",
       "\n",
       "    .dataframe tbody tr th {\n",
       "        vertical-align: top;\n",
       "    }\n",
       "\n",
       "    .dataframe thead th {\n",
       "        text-align: right;\n",
       "    }\n",
       "</style>\n",
       "<table border=\"1\" class=\"dataframe\">\n",
       "  <thead>\n",
       "    <tr style=\"text-align: right;\">\n",
       "      <th></th>\n",
       "      <th>team</th>\n",
       "      <th>name</th>\n",
       "      <th>epa_start</th>\n",
       "      <th>epa_end</th>\n",
       "      <th>epa_diff</th>\n",
       "      <th>total_epa_rank</th>\n",
       "    </tr>\n",
       "  </thead>\n",
       "  <tbody>\n",
       "    <tr>\n",
       "      <th>0</th>\n",
       "      <td>581</td>\n",
       "      <td>Blazing Bulldogs</td>\n",
       "      <td>21.25</td>\n",
       "      <td>64.45</td>\n",
       "      <td>43.20</td>\n",
       "      <td>23</td>\n",
       "    </tr>\n",
       "    <tr>\n",
       "      <th>1</th>\n",
       "      <td>3005</td>\n",
       "      <td>RoboChargers</td>\n",
       "      <td>31.94</td>\n",
       "      <td>73.15</td>\n",
       "      <td>41.21</td>\n",
       "      <td>5</td>\n",
       "    </tr>\n",
       "    <tr>\n",
       "      <th>2</th>\n",
       "      <td>1591</td>\n",
       "      <td>Greece Gladiators</td>\n",
       "      <td>22.79</td>\n",
       "      <td>63.73</td>\n",
       "      <td>40.94</td>\n",
       "      <td>27</td>\n",
       "    </tr>\n",
       "    <tr>\n",
       "      <th>3</th>\n",
       "      <td>7890</td>\n",
       "      <td>SeQuEnCe</td>\n",
       "      <td>23.28</td>\n",
       "      <td>61.95</td>\n",
       "      <td>38.67</td>\n",
       "      <td>37</td>\n",
       "    </tr>\n",
       "    <tr>\n",
       "      <th>4</th>\n",
       "      <td>1727</td>\n",
       "      <td>REX</td>\n",
       "      <td>23.08</td>\n",
       "      <td>61.18</td>\n",
       "      <td>38.10</td>\n",
       "      <td>43</td>\n",
       "    </tr>\n",
       "    <tr>\n",
       "      <th>5</th>\n",
       "      <td>4255</td>\n",
       "      <td>Robodores</td>\n",
       "      <td>26.45</td>\n",
       "      <td>64.54</td>\n",
       "      <td>38.09</td>\n",
       "      <td>22</td>\n",
       "    </tr>\n",
       "    <tr>\n",
       "      <th>6</th>\n",
       "      <td>930</td>\n",
       "      <td>Mukwonago BEARs</td>\n",
       "      <td>29.71</td>\n",
       "      <td>67.01</td>\n",
       "      <td>37.30</td>\n",
       "      <td>12</td>\n",
       "    </tr>\n",
       "    <tr>\n",
       "      <th>7</th>\n",
       "      <td>6036</td>\n",
       "      <td>Peninsula Robotics</td>\n",
       "      <td>32.08</td>\n",
       "      <td>69.30</td>\n",
       "      <td>37.22</td>\n",
       "      <td>10</td>\n",
       "    </tr>\n",
       "    <tr>\n",
       "      <th>8</th>\n",
       "      <td>6672</td>\n",
       "      <td>Fusion Corps</td>\n",
       "      <td>30.81</td>\n",
       "      <td>67.26</td>\n",
       "      <td>36.45</td>\n",
       "      <td>11</td>\n",
       "    </tr>\n",
       "    <tr>\n",
       "      <th>9</th>\n",
       "      <td>9312</td>\n",
       "      <td>NERD Spark</td>\n",
       "      <td>17.56</td>\n",
       "      <td>52.94</td>\n",
       "      <td>35.38</td>\n",
       "      <td>157</td>\n",
       "    </tr>\n",
       "  </tbody>\n",
       "</table>\n",
       "</div>"
      ],
      "text/plain": [
       "   team                name  epa_start  epa_end  epa_diff  total_epa_rank\n",
       "0   581    Blazing Bulldogs      21.25    64.45     43.20              23\n",
       "1  3005        RoboChargers      31.94    73.15     41.21               5\n",
       "2  1591   Greece Gladiators      22.79    63.73     40.94              27\n",
       "3  7890            SeQuEnCe      23.28    61.95     38.67              37\n",
       "4  1727                 REX      23.08    61.18     38.10              43\n",
       "5  4255           Robodores      26.45    64.54     38.09              22\n",
       "6   930     Mukwonago BEARs      29.71    67.01     37.30              12\n",
       "7  6036  Peninsula Robotics      32.08    69.30     37.22              10\n",
       "8  6672        Fusion Corps      30.81    67.26     36.45              11\n",
       "9  9312          NERD Spark      17.56    52.94     35.38             157"
      ]
     },
     "execution_count": 5,
     "metadata": {},
     "output_type": "execute_result"
    }
   ],
   "source": [
    "pd.DataFrame(sb.get_team_years(year=2023, metric=\"epa_diff\", limit=10, fields=[\"team\", \"name\", \"epa_start\", \"epa_end\", \"epa_diff\", \"total_epa_rank\"]))"
   ]
  },
  {
   "cell_type": "code",
   "execution_count": 4,
   "id": "5dec5794",
   "metadata": {},
   "outputs": [],
   "source": [
    "team_events_df = pd.DataFrame(sb.get_team_events(year=2023, limit=10000))"
   ]
  },
  {
   "cell_type": "code",
   "execution_count": 11,
   "id": "af125578",
   "metadata": {},
   "outputs": [],
   "source": [
    "teams = defaultdict(list)\n",
    "\n",
    "for _, r in team_events_df.sort_values(by=\"week\").iterrows():\n",
    "    teams[r.team].extend([r.epa_start, r.epa_end])"
   ]
  },
  {
   "cell_type": "code",
   "execution_count": 17,
   "id": "29ea38d1",
   "metadata": {},
   "outputs": [
    {
     "name": "stdout",
     "output_type": "stream",
     "text": [
      "5715 \t 32.06\n",
      "59 \t 31.62\n",
      "1622 \t 30.03\n",
      "4270 \t 29.86\n",
      "1778 \t 29.85\n",
      "2587 \t 29.23\n",
      "2687 \t 28.82\n",
      "3630 \t 28.29\n",
      "8516 \t 27.91\n",
      "3604 \t 27.8\n"
     ]
    }
   ],
   "source": [
    "epa_diff = {t: teams[t][-1] - teams[t][1] for t in teams}\n",
    "\n",
    "for t, diff in sorted(epa_diff.items(), key=lambda x: -x[1])[:10]:\n",
    "    print(t, \"\\t\", round(diff, 2))"
   ]
  },
  {
   "cell_type": "code",
   "execution_count": null,
   "id": "2a6c4e08",
   "metadata": {},
   "outputs": [],
   "source": []
  }
 ],
 "metadata": {
  "kernelspec": {
   "display_name": "Python 3 (ipykernel)",
   "language": "python",
   "name": "python3"
  },
  "language_info": {
   "codemirror_mode": {
    "name": "ipython",
    "version": 3
   },
   "file_extension": ".py",
   "mimetype": "text/x-python",
   "name": "python",
   "nbconvert_exporter": "python",
   "pygments_lexer": "ipython3",
   "version": "3.11.2"
  }
 },
 "nbformat": 4,
 "nbformat_minor": 5
}
