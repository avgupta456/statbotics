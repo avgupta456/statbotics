{
 "cells": [
  {
   "cell_type": "markdown",
   "id": "7d53b508",
   "metadata": {},
   "source": [
    "## Dependencies"
   ]
  },
  {
   "cell_type": "code",
   "execution_count": 1,
   "id": "2e2dda84",
   "metadata": {},
   "outputs": [],
   "source": [
    "from collections import defaultdict\n",
    "\n",
    "import pandas as pd"
   ]
  },
  {
   "cell_type": "markdown",
   "id": "24a7447a",
   "metadata": {},
   "source": [
    "## Load and Preprocess Data"
   ]
  },
  {
   "cell_type": "code",
   "execution_count": 2,
   "id": "debb1494",
   "metadata": {},
   "outputs": [],
   "source": [
    "events_df = pd.read_csv(\"https://raw.githubusercontent.com/avgupta456/statbotics-csvs/main/v1/events.csv\")\n",
    "matches_df = pd.read_csv(\"https://raw.githubusercontent.com/avgupta456/statbotics-csvs/main/v1/matches.csv\")"
   ]
  },
  {
   "cell_type": "code",
   "execution_count": 3,
   "id": "a943c6f2",
   "metadata": {},
   "outputs": [],
   "source": [
    "event_to_week = {r.key: r.week for _, r in events_df.iterrows()}\n",
    "matches_df[\"week\"] = matches_df[\"event\"].apply(lambda x: event_to_week[x])\n",
    "matches_df[\"win_prob\"] = matches_df[\"winner\"].apply(lambda x: {\"blue\": 0, \"draw\": 0.5, \"red\": 1}[x])\n",
    "matches_df[\"elo_acc\"] = matches_df.apply(lambda x: x[\"elo_winner\"] == x[\"winner\"], axis=1).astype(int)\n",
    "matches_df[\"elo_mse\"] = matches_df.apply(lambda x: (x[\"elo_win_prob\"] - x[\"win_prob\"]) ** 2, axis=1)\n",
    "matches_df[\"opr_acc\"] = matches_df.apply(lambda x: x[\"opr_winner\"] == x[\"winner\"], axis=1).astype(int)\n",
    "matches_df[\"opr_mse\"] = matches_df.apply(lambda x: (x[\"opr_win_prob\"] - x[\"win_prob\"]) ** 2, axis=1)\n",
    "matches_df[\"mix_acc\"] = matches_df.apply(lambda x: x[\"mix_winner\"] == x[\"winner\"], axis=1).astype(int)\n",
    "matches_df[\"mix_mse\"] = matches_df.apply(lambda x: (x[\"mix_win_prob\"] - x[\"win_prob\"]) ** 2, axis=1)"
   ]
  },
  {
   "cell_type": "code",
   "execution_count": 4,
   "id": "19917420",
   "metadata": {},
   "outputs": [],
   "source": [
    "sykes_dfs = []\n",
    "for year in range(2002, 2023):\n",
    "    if year == 2021:\n",
    "        continue\n",
    "        \n",
    "    curr_df = pd.read_csv(\"https://raw.githubusercontent.com/avgupta456/statbotics-csvs/main/elo/\" + str(year) + \".csv\")\n",
    "    curr_df[\"year\"] = year\n",
    "    \n",
    "    sykes_dfs.append(curr_df)\n",
    "\n",
    "sykes_df = pd.concat(sykes_dfs)"
   ]
  },
  {
   "cell_type": "code",
   "execution_count": 5,
   "id": "c817e07d",
   "metadata": {},
   "outputs": [],
   "source": [
    "sykes_df[\"week\"] = sykes_df[\"Key\"].apply(lambda x: event_to_week.get(x, -1))\n",
    "sykes_df[\"elo_win_prob\"] = sykes_df[\"Red win likelihood\"].apply(lambda x: x / 100 if type(x) == float else float(x.split(\"%\")[0]) / 100)\n",
    "sykes_df[\"elo_winner\"] = sykes_df[\"elo_win_prob\"].apply(lambda x: 1 if x > 0.5 else 0)\n",
    "sykes_df[\"elo_acc\"] = sykes_df[\"elo_winner\"] == sykes_df[\"Red victory\"]\n",
    "sykes_df[\"elo_mse\"] = sykes_df.apply(lambda x: (x[\"elo_win_prob\"] - x[\"Red victory\"]) ** 2, axis=1)"
   ]
  },
  {
   "cell_type": "markdown",
   "id": "0763779b",
   "metadata": {},
   "source": [
    "## Simple Baseline"
   ]
  },
  {
   "cell_type": "code",
   "execution_count": 6,
   "id": "9cedf31a",
   "metadata": {},
   "outputs": [
    {
     "name": "stdout",
     "output_type": "stream",
     "text": [
      "2002 \t 0.5812   \t 0.2367\n",
      "2003 \t 0.6105   \t 0.2333\n",
      "2004 \t 0.6104   \t 0.2186\n",
      "2005 \t 0.6197   \t 0.2231\n",
      "2006 \t 0.6351   \t 0.2215\n",
      "2007 \t 0.5842   \t 0.2209\n",
      "2008 \t 0.6347   \t 0.2157\n",
      "2009 \t 0.6297   \t 0.2202\n",
      "2010 \t 0.6019   \t 0.1948\n",
      "2011 \t 0.6676   \t 0.1978\n",
      "2012 \t 0.641   \t 0.2162\n",
      "2013 \t 0.6738   \t 0.2132\n",
      "2014 \t 0.6624   \t 0.218\n",
      "2015 \t 0.666   \t 0.2149\n",
      "2016 \t 0.6523   \t 0.2173\n",
      "2017 \t 0.6166   \t 0.2241\n",
      "2018 \t 0.6829   \t 0.2158\n",
      "2019 \t 0.6568   \t 0.2155\n",
      "2020 \t 0.6196   \t 0.2367\n",
      "2022 \t 0.6918   \t 0.209\n"
     ]
    }
   ],
   "source": [
    "for year in range(2002, 2023):\n",
    "    if year == 2021:\n",
    "        continue\n",
    "        \n",
    "    curr_year_matches_df = matches_df[matches_df.year == year]\n",
    "\n",
    "    acc = 0\n",
    "    mse = 0\n",
    "    count = 0\n",
    "\n",
    "    team_wins = defaultdict(int)\n",
    "    for _, r in curr_year_matches_df.sort_values(by=[\"time\"]).iterrows():\n",
    "        red_wins = sum([team_wins[int(x)] for x in r.red.split(\",\")])\n",
    "        blue_wins = sum([team_wins[int(x)] for x in r.blue.split(\",\")])\n",
    "        winner = {\"blue\": 0, \"draw\": 0.5, \"red\": 1}[r.winner]\n",
    "        win_prob = max(0.5, red_wins) / max(1, red_wins + blue_wins)\n",
    "        \n",
    "        # Uncomment/indent these lines for Champs-specific results\n",
    "        # if event_to_week[r.event] == 8:\n",
    "        acc += round(win_prob) == winner\n",
    "        mse += (win_prob - winner) ** 2\n",
    "        count += 1\n",
    "\n",
    "        teams = {\"blue\": r.blue.split(\",\"), \"draw\": [], \"red\": r.red.split(\",\")}[r.winner]\n",
    "        for t in teams:\n",
    "            team_wins[int(t)] += 1\n",
    "\n",
    "    if count > 0:\n",
    "        print(year, \"\\t\", round(acc / count, 4), \"  \\t\", round(mse / count, 4))"
   ]
  },
  {
   "cell_type": "markdown",
   "id": "336035cc",
   "metadata": {},
   "source": [
    "## Display Results"
   ]
  },
  {
   "cell_type": "code",
   "execution_count": 7,
   "id": "9c3d1d0a",
   "metadata": {
    "scrolled": true
   },
   "outputs": [
    {
     "name": "stdout",
     "output_type": "stream",
     "text": [
      "Elo Acc\t\tElo MSE\t\tOPR Acc\t\tOPR MSE\t\tMix Acc\t\tMix MSE\t\tSykes Elo Acc\tSykes Elo MSE\n",
      "0.5626   \t 0.2355   \t 0.5298   \t 0.2643   \t 0.5389   \t 0.2428   \t 0.5544   \t 0.2355\n",
      "0.6136   \t 0.2231   \t 0.6007   \t 0.2414   \t 0.6202   \t 0.2245   \t 0.619   \t 0.2229\n",
      "0.6213   \t 0.2124   \t 0.6263   \t 0.218   \t 0.6398   \t 0.2055   \t 0.6159   \t 0.2133\n",
      "0.662   \t 0.2085   \t 0.594   \t 0.2388   \t 0.6615   \t 0.2084   \t 0.6625   \t 0.2086\n",
      "0.6613   \t 0.2041   \t 0.6381   \t 0.2225   \t 0.6652   \t 0.2019   \t 0.6655   \t 0.2031\n",
      "0.619   \t 0.2093   \t 0.4969   \t 0.2542   \t 0.6077   \t 0.2142   \t 0.6655   \t 0.2031\n",
      "0.6642   \t 0.1939   \t 0.633   \t 0.2151   \t 0.6578   \t 0.1928   \t 0.662   \t 0.1953\n",
      "0.6808   \t 0.1959   \t 0.6496   \t 0.2194   \t 0.6801   \t 0.1967   \t 0.6816   \t 0.1957\n",
      "0.6239   \t 0.1764   \t 0.5506   \t 0.206   \t 0.6244   \t 0.1779   \t 0.6248   \t 0.1762\n",
      "0.7093   \t 0.1677   \t 0.6466   \t 0.1909   \t 0.7051   \t 0.1694   \t 0.7097   \t 0.1679\n",
      "0.6837   \t 0.1877   \t 0.6739   \t 0.1956   \t 0.6953   \t 0.184   \t 0.685   \t 0.1874\n",
      "0.7272   \t 0.1796   \t 0.7241   \t 0.1793   \t 0.7365   \t 0.1709   \t 0.7266   \t 0.1798\n",
      "0.7019   \t 0.1891   \t 0.691   \t 0.1971   \t 0.711   \t 0.1856   \t 0.7032   \t 0.189\n",
      "0.7005   \t 0.1855   \t 0.6881   \t 0.1948   \t 0.7089   \t 0.1804   \t 0.7005   \t 0.1857\n",
      "0.7005   \t 0.1862   \t 0.689   \t 0.1975   \t 0.7057   \t 0.1833   \t 0.7005   \t 0.1867\n",
      "0.6491   \t 0.2093   \t 0.6473   \t 0.2129   \t 0.6591   \t 0.2034   \t 0.6483   \t 0.2094\n",
      "0.7386   \t 0.1725   \t 0.7078   \t 0.1907   \t 0.7408   \t 0.1743   \t 0.7393   \t 0.1726\n",
      "0.7001   \t 0.1828   \t 0.6966   \t 0.1856   \t 0.7138   \t 0.1774   \t 0.7009   \t 0.1829\n",
      "0.6937   \t 0.1933   \t 0.7042   \t 0.1893   \t 0.7049   \t 0.1859   \t 0.6962   \t 0.193\n",
      "0.7556   \t 0.1588   \t 0.767   \t 0.1521   \t 0.7728   \t 0.1508   \t 0.7571   \t 0.1593\n"
     ]
    }
   ],
   "source": [
    "print(\"Elo Acc\\t\\tElo MSE\\t\\tOPR Acc\\t\\tOPR MSE\\t\\tMix Acc\\t\\tMix MSE\\t\\tSykes Elo Acc\\tSykes Elo MSE\")\n",
    "for year in range(2002, 2023):\n",
    "    if year == 2021:\n",
    "        continue\n",
    "\n",
    "    curr_year_matches_df = matches_df[matches_df.year == year]\n",
    "    curr_year_sykes_df = sykes_df[sykes_df.year == year]\n",
    "    \n",
    "    # Uncomment these lines for Champs-specific results\n",
    "    # curr_year_matches_df = curr_year_matches_df[curr_year_matches_df.week == 8]\n",
    "    # curr_year_sykes_df = curr_year_sykes_df[curr_year_sykes_df.week == 8]\n",
    "    \n",
    "    N = curr_year_matches_df.shape[0]\n",
    "    sykes_N = curr_year_sykes_df.shape[0]\n",
    "    \n",
    "    elo_acc = curr_year_matches_df[\"elo_acc\"].mean()\n",
    "    elo_mse = curr_year_matches_df[\"elo_mse\"].mean()\n",
    "    opr_acc = curr_year_matches_df[\"opr_acc\"].mean()\n",
    "    opr_mse = curr_year_matches_df[\"opr_mse\"].mean()\n",
    "    mix_acc = curr_year_matches_df[\"mix_acc\"].mean()\n",
    "    mix_mse = curr_year_matches_df[\"mix_mse\"].mean()\n",
    "    sykes_elo_acc = curr_year_sykes_df[\"elo_acc\"].mean()\n",
    "    sykes_elo_mse = curr_year_sykes_df[\"elo_mse\"].mean()\n",
    "    print(\n",
    "        round(elo_acc, 4), \"  \\t\", round(elo_mse, 4), \"  \\t\", \n",
    "        round(opr_acc, 4), \"  \\t\", round(opr_mse, 4), \"  \\t\",\n",
    "        round(mix_acc, 4), \"  \\t\", round(mix_mse, 4), \"  \\t\",\n",
    "        round(sykes_elo_acc, 4), \"  \\t\", round(sykes_elo_mse, 4)\n",
    "    )"
   ]
  },
  {
   "cell_type": "code",
   "execution_count": null,
   "id": "e27bd7ff",
   "metadata": {},
   "outputs": [],
   "source": []
  }
 ],
 "metadata": {
  "kernelspec": {
   "display_name": "Python 3 (ipykernel)",
   "language": "python",
   "name": "python3"
  },
  "language_info": {
   "codemirror_mode": {
    "name": "ipython",
    "version": 3
   },
   "file_extension": ".py",
   "mimetype": "text/x-python",
   "name": "python",
   "nbconvert_exporter": "python",
   "pygments_lexer": "ipython3",
   "version": "3.8.6"
  }
 },
 "nbformat": 4,
 "nbformat_minor": 5
}
