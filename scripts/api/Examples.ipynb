{
 "cells": [
  {
   "cell_type": "code",
   "execution_count": 1,
   "id": "14760451",
   "metadata": {},
   "outputs": [],
   "source": [
    "import statbotics\n",
    "\n",
    "sb = statbotics.Statbotics()"
   ]
  },
  {
   "cell_type": "code",
   "execution_count": 2,
   "id": "dd2c6b06",
   "metadata": {},
   "outputs": [
    {
     "data": {
      "text/plain": [
       "{'year': 2022,\n",
       " 'epa_max': 73.27,\n",
       " 'epa_1p': 49.72,\n",
       " 'epa_5p': 36.98,\n",
       " 'epa_10p': 30.48,\n",
       " 'epa_25p': 20.89,\n",
       " 'epa_median': 13.3,\n",
       " 'epa_75p': 8.13,\n",
       " 'epa_mean': 15.69,\n",
       " 'epa_sd': 10.72,\n",
       " 'auto_epa_max': 16.87,\n",
       " 'auto_epa_1p': 13.67,\n",
       " 'auto_epa_5p': 10.44,\n",
       " 'auto_epa_10p': 8.81,\n",
       " 'auto_epa_25p': 6.43,\n",
       " 'auto_epa_median': 4.27,\n",
       " 'auto_epa_75p': 2.8,\n",
       " 'auto_epa_mean': 4.87,\n",
       " 'auto_epa_sd': 2.89,\n",
       " 'teleop_epa_max': 45.21,\n",
       " 'teleop_epa_1p': 28.21,\n",
       " 'teleop_epa_5p': 18.7,\n",
       " 'teleop_epa_10p': 13.6,\n",
       " 'teleop_epa_25p': 8.16,\n",
       " 'teleop_epa_median': 4.35,\n",
       " 'teleop_epa_75p': 2.26,\n",
       " 'teleop_epa_mean': 6.12,\n",
       " 'teleop_epa_sd': 6.11,\n",
       " 'endgame_epa_max': 15.95,\n",
       " 'endgame_epa_1p': 13.53,\n",
       " 'endgame_epa_5p': 11.7,\n",
       " 'endgame_epa_10p': 10.28,\n",
       " 'endgame_epa_25p': 7.03,\n",
       " 'endgame_epa_median': 4.01,\n",
       " 'endgame_epa_75p': 2.04,\n",
       " 'endgame_epa_mean': 4.71,\n",
       " 'endgame_epa_sd': 3.63,\n",
       " 'rp_1_epa_max': 1.0971,\n",
       " 'rp_1_epa_1p': 0.8677,\n",
       " 'rp_1_epa_5p': 0.5839,\n",
       " 'rp_1_epa_10p': 0.4421,\n",
       " 'rp_1_epa_25p': 0.1873,\n",
       " 'rp_1_epa_median': 0.0073,\n",
       " 'rp_1_epa_75p': -0.0872,\n",
       " 'rp_1_epa_mean': 0.0827,\n",
       " 'rp_1_epa_sd': 0.24,\n",
       " 'rp_2_epa_max': 0.7984,\n",
       " 'rp_2_epa_1p': 0.6453,\n",
       " 'rp_2_epa_5p': 0.5117,\n",
       " 'rp_2_epa_10p': 0.4315,\n",
       " 'rp_2_epa_25p': 0.2785,\n",
       " 'rp_2_epa_median': 0.0989,\n",
       " 'rp_2_epa_75p': -0.0207,\n",
       " 'rp_2_epa_mean': 0.1353,\n",
       " 'rp_2_epa_sd': 0.2049,\n",
       " 'epa_quals_acc': 0.7703,\n",
       " 'epa_quals_mse': 0.1497,\n",
       " 'quals_count': 12048,\n",
       " 'epa_elims_acc': 0.7951,\n",
       " 'epa_elims_mse': 0.1406,\n",
       " 'elims_count': 2597,\n",
       " 'epa_champs_acc': 0.7664,\n",
       " 'epa_champs_mse': 0.1465,\n",
       " 'champs_count': 869,\n",
       " 'epa_acc': 0.7747,\n",
       " 'epa_mse': 0.1481,\n",
       " 'count': 14645,\n",
       " 'rp_1_acc': 0.8138,\n",
       " 'rp_1_mse': 0.1288,\n",
       " 'rp_1_champs_acc': 0.8624,\n",
       " 'rp_1_champs_mse': 0.0996,\n",
       " 'rp_2_acc': 0.7295,\n",
       " 'rp_2_mse': 0.1801,\n",
       " 'rp_2_champs_acc': 0.7917,\n",
       " 'rp_2_champs_mse': 0.156,\n",
       " 'rp_champs_count': 1512,\n",
       " 'rp_count': 24096,\n",
       " 'score_mean': 41.41,\n",
       " 'score_sd': 22.07,\n",
       " 'auto_mean': 11.65,\n",
       " 'teleop_mean': 15.66,\n",
       " 'endgame_mean': 11.71,\n",
       " 'fouls_mean': 2.42,\n",
       " 'no_fouls_mean': 39.02,\n",
       " 'rp_1_mean': 0.12,\n",
       " 'rp_2_mean': 0.23}"
      ]
     },
     "execution_count": 2,
     "metadata": {},
     "output_type": "execute_result"
    }
   ],
   "source": [
    "sb.get_year(2022)"
   ]
  },
  {
   "cell_type": "code",
   "execution_count": 3,
   "id": "826ca157",
   "metadata": {},
   "outputs": [
    {
     "name": "stdout",
     "output_type": "stream",
     "text": [
      "{'year': 2022, 'epa_acc': 0.7747, 'epa_mse': 0.1481}\n",
      "{'year': 2013, 'epa_acc': 0.7371, 'epa_mse': 0.1704}\n",
      "{'year': 2018, 'epa_acc': 0.7361, 'epa_mse': 0.175}\n",
      "{'year': 2011, 'epa_acc': 0.7272, 'epa_mse': 0.1621}\n",
      "{'year': 2020, 'epa_acc': 0.7201, 'epa_mse': 0.1818}\n",
      "{'year': 2016, 'epa_acc': 0.7187, 'epa_mse': 0.1795}\n",
      "{'year': 2019, 'epa_acc': 0.7178, 'epa_mse': 0.1759}\n",
      "{'year': 2015, 'epa_acc': 0.7006, 'epa_mse': 0.1842}\n",
      "{'year': 2014, 'epa_acc': 0.6988, 'epa_mse': 0.1907}\n",
      "{'year': 2012, 'epa_acc': 0.6934, 'epa_mse': 0.1841}\n"
     ]
    }
   ],
   "source": [
    "for obj in sb.get_years(metric=\"epa_acc\", limit=10, fields=[\"year\", \"epa_acc\", \"epa_mse\"]):\n",
    "    print(obj)"
   ]
  },
  {
   "cell_type": "code",
   "execution_count": 4,
   "id": "1bd58874",
   "metadata": {},
   "outputs": [
    {
     "data": {
      "text/plain": [
       "{'team': 5511,\n",
       " 'name': 'Cortechs Robotics',\n",
       " 'offseason': False,\n",
       " 'state': 'NC',\n",
       " 'country': 'USA',\n",
       " 'district': 'fnc',\n",
       " 'rookie_year': 2015,\n",
       " 'active': True,\n",
       " 'norm_epa': 1563.0,\n",
       " 'norm_epa_recent': 1566.0,\n",
       " 'norm_epa_mean': 1543.0,\n",
       " 'norm_epa_max': 1590.0,\n",
       " 'wins': 174,\n",
       " 'losses': 138,\n",
       " 'ties': 6,\n",
       " 'count': 318,\n",
       " 'winrate': 0.5566,\n",
       " 'full_wins': 198,\n",
       " 'full_losses': 166,\n",
       " 'full_ties': 6,\n",
       " 'full_count': 370,\n",
       " 'full_winrate': 0.5432}"
      ]
     },
     "execution_count": 4,
     "metadata": {},
     "output_type": "execute_result"
    }
   ],
   "source": [
    "sb.get_team(5511)"
   ]
  },
  {
   "cell_type": "code",
   "execution_count": 5,
   "id": "ad71fe0c",
   "metadata": {},
   "outputs": [
    {
     "name": "stdout",
     "output_type": "stream",
     "text": [
      "{'team': 1533, 'name': 'Triple Strange', 'wins': 361, 'losses': 208, 'ties': 2}\n",
      "{'team': 435, 'name': 'Robodogs', 'wins': 326, 'losses': 254, 'ties': 8}\n",
      "{'team': 2655, 'name': 'The Flying Platypi', 'wins': 322, 'losses': 241, 'ties': 15}\n",
      "{'team': 587, 'name': 'The Hedgehogs', 'wins': 320, 'losses': 267, 'ties': 16}\n",
      "{'team': 2642, 'name': 'Pitt Pirates', 'wins': 318, 'losses': 207, 'ties': 6}\n",
      "{'team': 2059, 'name': 'The Hitchhikers', 'wins': 290, 'losses': 200, 'ties': 6}\n",
      "{'team': 900, 'name': 'The Zebracorns', 'wins': 284, 'losses': 302, 'ties': 6}\n",
      "{'team': 3196, 'name': 'Team SPORK', 'wins': 240, 'losses': 224, 'ties': 5}\n",
      "{'team': 3506, 'name': 'YETI Robotics', 'wins': 238, 'losses': 195, 'ties': 6}\n",
      "{'team': 4561, 'name': 'TerrorBytes', 'wins': 230, 'losses': 137, 'ties': 3}\n",
      "{'team': 5190, 'name': 'Green Hope Falcons', 'wins': 192, 'losses': 124, 'ties': 7}\n",
      "{'team': 1225, 'name': 'The Gorillas', 'wins': 188, 'losses': 219, 'ties': 10}\n",
      "{'team': 3459, 'name': 'Team PyroTech', 'wins': 182, 'losses': 187, 'ties': 8}\n",
      "{'team': 4795, 'name': 'Eastbots', 'wins': 176, 'losses': 150, 'ties': 4}\n",
      "{'team': 5511, 'name': 'Cortechs Robotics', 'wins': 174, 'losses': 138, 'ties': 6}\n",
      "{'team': 4290, 'name': 'Bots on Wheels', 'wins': 173, 'losses': 126, 'ties': 6}\n",
      "{'team': 3737, 'name': 'Roto Raptors', 'wins': 168, 'losses': 161, 'ties': 3}\n",
      "{'team': 2640, 'name': 'HOTBOTZ', 'wins': 163, 'losses': 166, 'ties': 7}\n",
      "{'team': 4935, 'name': 'T-Rex', 'wins': 161, 'losses': 153, 'ties': 7}\n",
      "{'team': 5160, 'name': 'Chargers', 'wins': 157, 'losses': 127, 'ties': 2}\n"
     ]
    }
   ],
   "source": [
    "for obj in sb.get_teams(state=\"NC\", metric=\"wins\", limit=20, fields=[\"team\", \"name\", \"wins\", \"losses\", \"ties\"]):\n",
    "    print(obj)"
   ]
  },
  {
   "cell_type": "code",
   "execution_count": 6,
   "id": "89913cc6",
   "metadata": {},
   "outputs": [
    {
     "data": {
      "text/plain": [
       "{'year': 2020,\n",
       " 'team': 5511,\n",
       " 'offseason': False,\n",
       " 'name': 'Cortechs Robotics',\n",
       " 'state': 'NC',\n",
       " 'country': 'USA',\n",
       " 'district': 'fnc',\n",
       " 'epa_start': 32.32,\n",
       " 'epa_pre_champs': 42.49,\n",
       " 'epa_end': 42.49,\n",
       " 'epa_mean': 39.18,\n",
       " 'epa_max': 42.49,\n",
       " 'epa_diff': 10.17,\n",
       " 'auto_epa_start': 10.83,\n",
       " 'auto_epa_pre_champs': 18.63,\n",
       " 'auto_epa_end': 18.63,\n",
       " 'auto_epa_mean': 15.61,\n",
       " 'auto_epa_max': 18.99,\n",
       " 'teleop_epa_start': 8.02,\n",
       " 'teleop_epa_pre_champs': 13.41,\n",
       " 'teleop_epa_end': 13.41,\n",
       " 'teleop_epa_mean': 10.53,\n",
       " 'teleop_epa_max': 13.41,\n",
       " 'endgame_epa_start': 13.48,\n",
       " 'endgame_epa_pre_champs': 10.45,\n",
       " 'endgame_epa_end': 10.45,\n",
       " 'endgame_epa_mean': 13.04,\n",
       " 'endgame_epa_max': 11.99,\n",
       " 'rp_1_epa_start': -0.3103,\n",
       " 'rp_1_epa_pre_champs': -0.3139,\n",
       " 'rp_1_epa_end': -0.3139,\n",
       " 'rp_1_epa_mean': -0.3128,\n",
       " 'rp_1_epa_max': -0.3129,\n",
       " 'rp_2_epa_start': 0.0237,\n",
       " 'rp_2_epa_pre_champs': 0.0449,\n",
       " 'rp_2_epa_end': 0.0449,\n",
       " 'rp_2_epa_mean': 0.055,\n",
       " 'rp_2_epa_max': 0.0858,\n",
       " 'norm_epa_end': 1582.77,\n",
       " 'wins': 18,\n",
       " 'losses': 0,\n",
       " 'ties': 0,\n",
       " 'count': 18,\n",
       " 'winrate': 1.0,\n",
       " 'full_wins': 18,\n",
       " 'full_losses': 0,\n",
       " 'full_ties': 0,\n",
       " 'full_count': 18,\n",
       " 'full_winrate': 1.0,\n",
       " 'total_epa_rank': 383,\n",
       " 'total_epa_percentile': 0.814,\n",
       " 'total_team_count': 2059,\n",
       " 'country_epa_rank': 325,\n",
       " 'country_epa_percentile': 0.7925,\n",
       " 'country_team_count': 1566,\n",
       " 'state_epa_rank': 7,\n",
       " 'state_epa_percentile': 0.8627,\n",
       " 'state_team_count': 51,\n",
       " 'district_epa_rank': 7,\n",
       " 'district_epa_percentile': 0.8627,\n",
       " 'district_team_count': 51}"
      ]
     },
     "execution_count": 6,
     "metadata": {},
     "output_type": "execute_result"
    }
   ],
   "source": [
    "sb.get_team_year(5511, 2020)"
   ]
  },
  {
   "cell_type": "code",
   "execution_count": 7,
   "id": "b46082f7",
   "metadata": {},
   "outputs": [
    {
     "name": "stdout",
     "output_type": "stream",
     "text": [
      "{'year': 2008, 'team': 1114, 'name': 'Simbotics', 'norm_epa_end': 2172.07}\n",
      "{'year': 2017, 'team': 1986, 'name': 'Team Titanium', 'norm_epa_end': 2121.97}\n",
      "{'year': 2017, 'team': 254, 'name': 'The Cheesy Poofs', 'norm_epa_end': 2114.46}\n",
      "{'year': 2014, 'team': 254, 'name': 'The Cheesy Poofs', 'norm_epa_end': 2086.33}\n",
      "{'year': 2017, 'team': 2056, 'name': 'OP Robotics', 'norm_epa_end': 2070.06}\n",
      "{'year': 2006, 'team': 25, 'name': 'Raider Robotix', 'norm_epa_end': 2066.15}\n",
      "{'year': 2010, 'team': 469, 'name': 'Las Guerrillas', 'norm_epa_end': 2063.86}\n",
      "{'year': 2012, 'team': 987, 'name': 'HIGHROLLERS', 'norm_epa_end': 2048.07}\n",
      "{'year': 2019, 'team': 1323, 'name': 'MadTown Robotics', 'norm_epa_end': 2041.65}\n",
      "{'year': 2013, 'team': 1114, 'name': 'Simbotics', 'norm_epa_end': 2040.72}\n"
     ]
    }
   ],
   "source": [
    "for obj in sb.get_team_years(metric=\"norm_epa_end\", limit=10, fields=[\"year\", \"team\", \"name\", \"norm_epa_end\"]):\n",
    "    print(obj)"
   ]
  },
  {
   "cell_type": "code",
   "execution_count": 8,
   "id": "07b6e117",
   "metadata": {},
   "outputs": [
    {
     "data": {
      "text/plain": [
       "{'key': '2022carv',\n",
       " 'year': 2022,\n",
       " 'name': 'Carver Division',\n",
       " 'time': 1650427200,\n",
       " 'state': 'TX',\n",
       " 'country': 'USA',\n",
       " 'district': None,\n",
       " 'start_date': '2022-04-20',\n",
       " 'end_date': '2022-04-23',\n",
       " 'type': 3,\n",
       " 'week': 8,\n",
       " 'offseason': False,\n",
       " 'video': 'https://www.twitch.tv/firstinspires_carver',\n",
       " 'status': 'Completed',\n",
       " 'qual_matches': 125,\n",
       " 'epa_max': 69.13,\n",
       " 'epa_top8': 45.44,\n",
       " 'epa_top24': 34.36,\n",
       " 'epa_mean': 28.85,\n",
       " 'epa_sd': 13.08,\n",
       " 'epa_acc': 0.7714,\n",
       " 'epa_mse': 0.1426,\n",
       " 'rp_1_acc': 0.812,\n",
       " 'rp_1_mse': 0.1277,\n",
       " 'rp_2_acc': 0.788,\n",
       " 'rp_2_mse': 0.1551}"
      ]
     },
     "execution_count": 8,
     "metadata": {},
     "output_type": "execute_result"
    }
   ],
   "source": [
    "sb.get_event(\"2022carv\")"
   ]
  },
  {
   "cell_type": "code",
   "execution_count": 9,
   "id": "d5a1a991",
   "metadata": {},
   "outputs": [
    {
     "name": "stdout",
     "output_type": "stream",
     "text": [
      "{'name': 'Roebling Division', 'week': 8, 'epa_top24': 40.4}\n",
      "{'name': 'Hopper Division', 'week': 8, 'epa_top24': 37.03}\n",
      "{'name': 'Newton Division', 'week': 8, 'epa_top24': 36.89}\n",
      "{'name': 'Galileo Division', 'week': 8, 'epa_top24': 36.14}\n",
      "{'name': 'Carver Division', 'week': 8, 'epa_top24': 34.36}\n",
      "{'name': 'Turing Division', 'week': 8, 'epa_top24': 33.43}\n",
      "{'name': 'FIRST in Michigan State Championship - DTE Energy Foundation Division', 'week': 7, 'epa_top24': 26.86}\n",
      "{'name': 'Pacific Northwest FIRST District Championship', 'week': 6, 'epa_top24': 26.67}\n",
      "{'name': 'FIRST Mid-Atlantic District Championship', 'week': 6, 'epa_top24': 26.45}\n",
      "{'name': 'FIRST in Michigan State Championship - Ford Division', 'week': 7, 'epa_top24': 24.45}\n"
     ]
    }
   ],
   "source": [
    "for obj in sb.get_events(year=2022, metric=\"epa_top24\", limit=10, fields=[\"name\", \"week\", \"epa_top24\"]):\n",
    "    print(obj)"
   ]
  },
  {
   "cell_type": "code",
   "execution_count": 10,
   "id": "618a87bd",
   "metadata": {},
   "outputs": [
    {
     "data": {
      "text/plain": [
       "{'team': 254,\n",
       " 'year': 2018,\n",
       " 'event': '2018casj',\n",
       " 'offseason': False,\n",
       " 'team_name': 'The Cheesy Poofs',\n",
       " 'event_name': 'Silicon Valley Regional',\n",
       " 'state': 'CA',\n",
       " 'country': 'USA',\n",
       " 'district': None,\n",
       " 'type': 0,\n",
       " 'week': 5,\n",
       " 'status': 'Completed',\n",
       " 'epa_start': 293.38,\n",
       " 'epa_pre_playoffs': 298.06,\n",
       " 'epa_end': 313.17,\n",
       " 'epa_mean': 298.96,\n",
       " 'epa_max': 313.17,\n",
       " 'epa_diff': 19.79,\n",
       " 'auto_epa_start': 24.19,\n",
       " 'auto_epa_pre_playoffs': 25.59,\n",
       " 'auto_epa_end': 24.82,\n",
       " 'auto_epa_mean': 24.78,\n",
       " 'auto_epa_max': 25.71,\n",
       " 'teleop_epa_start': 222.83,\n",
       " 'teleop_epa_pre_playoffs': 215.82,\n",
       " 'teleop_epa_end': 232.83,\n",
       " 'teleop_epa_mean': 221.39,\n",
       " 'teleop_epa_max': 232.83,\n",
       " 'endgame_epa_start': 46.36,\n",
       " 'endgame_epa_pre_playoffs': 56.65,\n",
       " 'endgame_epa_end': 55.52,\n",
       " 'endgame_epa_mean': 52.78,\n",
       " 'endgame_epa_max': 56.65,\n",
       " 'rp_1_epa_start': 0.4657,\n",
       " 'rp_1_epa_end': 0.7111,\n",
       " 'rp_1_epa_mean': 0.6023,\n",
       " 'rp_1_epa_max': 0.7111,\n",
       " 'rp_2_epa_start': 0.6801,\n",
       " 'rp_2_epa_end': 1.039,\n",
       " 'rp_2_epa_mean': 0.8661,\n",
       " 'rp_2_epa_max': 1.039,\n",
       " 'wins': 15,\n",
       " 'losses': 0,\n",
       " 'ties': 0,\n",
       " 'count': 15,\n",
       " 'winrate': 1.0,\n",
       " 'qual_wins': 9,\n",
       " 'qual_losses': 0,\n",
       " 'qual_ties': 0,\n",
       " 'qual_count': 9,\n",
       " 'rps': 36,\n",
       " 'rps_per_match': 4.0,\n",
       " 'rank': 1,\n",
       " 'num_teams': 60}"
      ]
     },
     "execution_count": 10,
     "metadata": {},
     "output_type": "execute_result"
    }
   ],
   "source": [
    "sb.get_team_event(254, \"2018casj\")"
   ]
  },
  {
   "cell_type": "code",
   "execution_count": 11,
   "id": "5484e86c",
   "metadata": {},
   "outputs": [
    {
     "name": "stdout",
     "output_type": "stream",
     "text": [
      "{'year': 2022, 'event_name': 'Silicon Valley Regional', 'winrate': 1.0, 'rank': 1}\n",
      "{'year': 2018, 'event_name': 'Einstein Field (Houston)', 'winrate': 1.0, 'rank': -1}\n",
      "{'year': 2015, 'event_name': 'Central Valley Regional', 'winrate': 1.0, 'rank': 2}\n",
      "{'year': 2018, 'event_name': 'Hopper Division', 'winrate': 1.0, 'rank': 1}\n",
      "{'year': 2018, 'event_name': 'Arizona North Regional', 'winrate': 1.0, 'rank': 1}\n",
      "{'year': 2011, 'event_name': 'Silicon Valley Regional', 'winrate': 1.0, 'rank': 1}\n",
      "{'year': 2019, 'event_name': 'Silicon Valley Regional', 'winrate': 1.0, 'rank': 2}\n",
      "{'year': 2011, 'event_name': 'Einstein Field', 'winrate': 1.0, 'rank': 18}\n",
      "{'year': 2015, 'event_name': 'Silicon Valley Regional sponsored by Google.org', 'winrate': 1.0, 'rank': 1}\n",
      "{'year': 2018, 'event_name': 'Silicon Valley Regional', 'winrate': 1.0, 'rank': 1}\n",
      "{'year': 2017, 'event_name': 'San Francisco Regional', 'winrate': 1.0, 'rank': 1}\n",
      "{'year': 2016, 'event_name': 'Silicon Valley Regional presented by Google.org', 'winrate': 1.0, 'rank': 2}\n",
      "{'year': 2010, 'event_name': 'Silicon Valley Regional sponsored by Google and BAE Systems', 'winrate': 0.9688, 'rank': 2}\n",
      "{'year': 2022, 'event_name': 'Sacramento Regional', 'winrate': 0.9412, 'rank': 1}\n",
      "{'year': 2014, 'event_name': 'Curie Division', 'winrate': 0.9412, 'rank': 1}\n",
      "{'year': 2014, 'event_name': 'Silicon Valley Regional ', 'winrate': 0.9412, 'rank': 3}\n",
      "{'year': 2012, 'event_name': 'Silicon Valley Regional', 'winrate': 0.9375, 'rank': 3}\n",
      "{'year': 2019, 'event_name': 'Turing Division', 'winrate': 0.9375, 'rank': 1}\n",
      "{'year': 2013, 'event_name': 'Silicon Valley Regional', 'winrate': 0.9375, 'rank': 1}\n",
      "{'year': 2016, 'event_name': 'Central Valley Regional', 'winrate': 0.9375, 'rank': 2}\n"
     ]
    }
   ],
   "source": [
    "for obj in sb.get_team_events(team=254, metric=\"winrate\", limit=20, fields=[\"year\", \"event_name\", \"winrate\", \"rank\"]):\n",
    "    print(obj)"
   ]
  },
  {
   "cell_type": "code",
   "execution_count": 12,
   "id": "5a7899de",
   "metadata": {},
   "outputs": [
    {
     "data": {
      "text/plain": [
       "{'key': '2022carv_qm67',\n",
       " 'year': 2022,\n",
       " 'event': '2022carv',\n",
       " 'comp_level': 'qm',\n",
       " 'set_number': 1,\n",
       " 'match_number': 67,\n",
       " 'offseason': False,\n",
       " 'status': 'Completed',\n",
       " 'video': 'jKXR97T1arQ',\n",
       " 'red_1': 5727,\n",
       " 'red_2': 2046,\n",
       " 'red_3': 1885,\n",
       " 'red_dq': '',\n",
       " 'red_surrogate': '',\n",
       " 'red_epa_sum': 106.31,\n",
       " 'red_auto_epa_sum': 24.99,\n",
       " 'red_teleop_epa_sum': 50.97,\n",
       " 'red_endgame_epa_sum': 30.35,\n",
       " 'red_rp_1_epa_sum': 1.3497,\n",
       " 'red_rp_2_epa_sum': 1.2091,\n",
       " 'blue_1': 604,\n",
       " 'blue_2': 1323,\n",
       " 'blue_3': 1690,\n",
       " 'blue_dq': '',\n",
       " 'blue_surrogate': '',\n",
       " 'blue_epa_sum': 184.29,\n",
       " 'blue_auto_epa_sum': 43.46,\n",
       " 'blue_teleop_epa_sum': 104.28,\n",
       " 'blue_endgame_epa_sum': 36.55,\n",
       " 'blue_rp_1_epa_sum': 2.8897,\n",
       " 'blue_rp_2_epa_sum': 1.8651,\n",
       " 'winner': 'blue',\n",
       " 'epa_winner': 'blue',\n",
       " 'epa_win_prob': 0.0062,\n",
       " 'red_rp_1_prob': 0.9677,\n",
       " 'red_rp_2_prob': 0.9446,\n",
       " 'blue_rp_1_prob': 0.9999,\n",
       " 'blue_rp_2_prob': 0.9958,\n",
       " 'playoff': False,\n",
       " 'time': 1650427267,\n",
       " 'red_score': 153,\n",
       " 'blue_score': 172,\n",
       " 'red_auto': 34,\n",
       " 'red_auto_movement': 6,\n",
       " 'red_teleop': 85,\n",
       " 'red_endgame': 30,\n",
       " 'red_no_fouls': 149,\n",
       " 'red_fouls': 4,\n",
       " 'red_rp_1': 1,\n",
       " 'red_rp_2': 1,\n",
       " 'blue_auto': 38,\n",
       " 'blue_auto_movement': 6,\n",
       " 'blue_teleop': 104,\n",
       " 'blue_endgame': 30,\n",
       " 'blue_no_fouls': 172,\n",
       " 'blue_fouls': 0,\n",
       " 'blue_rp_1': 1,\n",
       " 'blue_rp_2': 1}"
      ]
     },
     "execution_count": 12,
     "metadata": {},
     "output_type": "execute_result"
    }
   ],
   "source": [
    "sb.get_match(\"2022carv_qm67\")"
   ]
  },
  {
   "cell_type": "code",
   "execution_count": 13,
   "id": "65f32357",
   "metadata": {},
   "outputs": [
    {
     "name": "stdout",
     "output_type": "stream",
     "text": [
      "{'key': '2022new_qm71', 'red_1': 2910, 'red_2': 973, 'red_3': 2486, 'red_epa_sum': 170.48, 'red_no_fouls': 146}\n",
      "{'key': '2022casj_qf1m2', 'red_1': 1678, 'red_2': 254, 'red_3': 7419, 'red_epa_sum': 169.59, 'red_no_fouls': 163}\n",
      "{'key': '2022casj_sf1m1', 'red_1': 1678, 'red_2': 254, 'red_3': 7419, 'red_epa_sum': 169.35, 'red_no_fouls': 158}\n",
      "{'key': '2022casj_sf1m2', 'red_1': 1678, 'red_2': 254, 'red_3': 7419, 'red_epa_sum': 168.29, 'red_no_fouls': 139}\n",
      "{'key': '2022casj_qf1m1', 'red_1': 1678, 'red_2': 254, 'red_3': 7419, 'red_epa_sum': 168.04, 'red_no_fouls': 179}\n",
      "{'key': '2022hop_qf1m2', 'red_1': 5454, 'red_2': 1706, 'red_3': 1678, 'red_epa_sum': 166.57, 'red_no_fouls': 143}\n",
      "{'key': '2022casj_f1m1', 'red_1': 1678, 'red_2': 254, 'red_3': 7419, 'red_epa_sum': 165.88, 'red_no_fouls': 143}\n",
      "{'key': '2022gal_qf1m2', 'red_1': 254, 'red_2': 3175, 'red_3': 1619, 'red_epa_sum': 165.67, 'red_no_fouls': 114}\n",
      "{'key': '2022hop_f1m2', 'red_1': 5454, 'red_2': 1678, 'red_3': 1706, 'red_epa_sum': 165.56, 'red_no_fouls': 166}\n",
      "{'key': '2022hop_f1m1', 'red_1': 5454, 'red_2': 1678, 'red_3': 1706, 'red_epa_sum': 164.57, 'red_no_fouls': 153}\n"
     ]
    }
   ],
   "source": [
    "fields=[\"key\", \"red_1\", \"red_2\", \"red_3\", \"red_epa_sum\", \"red_no_fouls\"]\n",
    "for obj in sb.get_matches(year=2022, metric=\"red_epa_sum\", limit=10, fields=fields):\n",
    "    print(obj)"
   ]
  },
  {
   "cell_type": "code",
   "execution_count": 14,
   "id": "fe001d8f",
   "metadata": {},
   "outputs": [
    {
     "data": {
      "text/plain": [
       "{'team': 5511,\n",
       " 'year': 2019,\n",
       " 'event': '2019ncwak',\n",
       " 'match': '2019ncwak_f1m1',\n",
       " 'time': 1552021701,\n",
       " 'offseason': False,\n",
       " 'playoff': True,\n",
       " 'alliance': 'red',\n",
       " 'status': 'Completed',\n",
       " 'dq': False,\n",
       " 'surrogate': False,\n",
       " 'epa': 24.05,\n",
       " 'auto_epa': 2.65,\n",
       " 'teleop_epa': 11.31,\n",
       " 'endgame_epa': 10.09,\n",
       " 'rp_1_epa': -0.1725,\n",
       " 'rp_2_epa': 0.6647}"
      ]
     },
     "execution_count": 14,
     "metadata": {},
     "output_type": "execute_result"
    }
   ],
   "source": [
    "sb.get_team_match(team=5511, match=\"2019ncwak_f1m1\")"
   ]
  },
  {
   "cell_type": "code",
   "execution_count": 15,
   "id": "847e5f4b",
   "metadata": {},
   "outputs": [
    {
     "name": "stdout",
     "output_type": "stream",
     "text": [
      "{'match': '2022ncgre_qm2', 'time': 1646974802, 'epa': 15.74}\n",
      "{'match': '2022ncgre_qm10', 'time': 1646974810, 'epa': 9.95}\n",
      "{'match': '2022ncgre_qm14', 'time': 1646974814, 'epa': 5.17}\n",
      "{'match': '2022ncgre_qm20', 'time': 1646974820, 'epa': 3.3}\n",
      "{'match': '2022ncgre_qm23', 'time': 1646974823, 'epa': 4.17}\n",
      "{'match': '2022ncgre_qm32', 'time': 1646974832, 'epa': 3.88}\n",
      "{'match': '2022ncgre_qm35', 'time': 1646974835, 'epa': 2.43}\n",
      "{'match': '2022ncgre_qm41', 'time': 1646974841, 'epa': 2.45}\n",
      "{'match': '2022ncgre_qm45', 'time': 1646974845, 'epa': 4.68}\n",
      "{'match': '2022ncgre_qm54', 'time': 1646974854, 'epa': 8.36}\n",
      "{'match': '2022ncgre_qm57', 'time': 1646974857, 'epa': 6.06}\n",
      "{'match': '2022ncgre_qm64', 'time': 1646974864, 'epa': 4.88}\n",
      "{'match': '2022ncgre_qf2m1', 'time': 1646975121, 'epa': 4.67}\n",
      "{'match': '2022ncgre_qf2m2', 'time': 1646975122, 'epa': 4.72}\n",
      "{'match': '2022ncgre_sf1m1', 'time': 1646975211, 'epa': 4.7}\n",
      "{'match': '2022ncash_qm2', 'time': 1647576002, 'epa': 4.7}\n",
      "{'match': '2022ncash_qm10', 'time': 1647576010, 'epa': 7.81}\n",
      "{'match': '2022ncash_qm13', 'time': 1647576013, 'epa': 8.97}\n",
      "{'match': '2022ncash_qm17', 'time': 1647576017, 'epa': 8.58}\n",
      "{'match': '2022ncash_qm21', 'time': 1647576021, 'epa': 11.03}\n",
      "{'match': '2022ncash_qm26', 'time': 1647576026, 'epa': 10.72}\n",
      "{'match': '2022ncash_qm32', 'time': 1647576032, 'epa': 12.45}\n",
      "{'match': '2022ncash_qm35', 'time': 1647576035, 'epa': 12.41}\n",
      "{'match': '2022ncash_qm40', 'time': 1647576040, 'epa': 13.57}\n",
      "{'match': '2022ncash_qm44', 'time': 1647576044, 'epa': 13.24}\n",
      "{'match': '2022ncash_qm49', 'time': 1647576049, 'epa': 13.83}\n",
      "{'match': '2022ncash_qm54', 'time': 1647576054, 'epa': 13.25}\n",
      "{'match': '2022ncash_qf3m1', 'time': 1647576331, 'epa': 14.27}\n",
      "{'match': '2022ncash_qf3m2', 'time': 1647576332, 'epa': 14.88}\n",
      "{'match': '2022ncash_qf3m3', 'time': 1647576333, 'epa': 14.88}\n",
      "{'match': '2022nccmp_qm4', 'time': 1649390404, 'epa': 14.75}\n",
      "{'match': '2022nccmp_qm7', 'time': 1649390407, 'epa': 15.04}\n",
      "{'match': '2022nccmp_qm12', 'time': 1649390412, 'epa': 16.86}\n",
      "{'match': '2022nccmp_qm18', 'time': 1649390418, 'epa': 19.11}\n",
      "{'match': '2022nccmp_qm27', 'time': 1649390427, 'epa': 20.06}\n",
      "{'match': '2022nccmp_qm30', 'time': 1649390430, 'epa': 20.41}\n",
      "{'match': '2022nccmp_qm34', 'time': 1649390434, 'epa': 22.3}\n",
      "{'match': '2022nccmp_qm42', 'time': 1649390442, 'epa': 22.33}\n",
      "{'match': '2022nccmp_qm46', 'time': 1649390446, 'epa': 22.8}\n",
      "{'match': '2022nccmp_qm49', 'time': 1649390449, 'epa': 22.76}\n",
      "{'match': '2022nccmp_qm58', 'time': 1649390458, 'epa': 23.15}\n",
      "{'match': '2022nccmp_qm62', 'time': 1649390462, 'epa': 21.69}\n",
      "{'match': '2022nccmp_qf1m1', 'time': 1649390711, 'epa': 22.44}\n",
      "{'match': '2022nccmp_qf1m2', 'time': 1649390712, 'epa': 22.77}\n"
     ]
    }
   ],
   "source": [
    "for obj in sb.get_team_matches(team=5511, year=2022, fields=[\"match\", \"time\", \"epa\"]):\n",
    "    print(obj)"
   ]
  },
  {
   "cell_type": "code",
   "execution_count": null,
   "id": "e4519fb4",
   "metadata": {},
   "outputs": [],
   "source": []
  }
 ],
 "metadata": {
  "kernelspec": {
   "display_name": "Python 3 (ipykernel)",
   "language": "python",
   "name": "python3"
  },
  "language_info": {
   "codemirror_mode": {
    "name": "ipython",
    "version": 3
   },
   "file_extension": ".py",
   "mimetype": "text/x-python",
   "name": "python",
   "nbconvert_exporter": "python",
   "pygments_lexer": "ipython3",
   "version": "3.8.6"
  }
 },
 "nbformat": 4,
 "nbformat_minor": 5
}
