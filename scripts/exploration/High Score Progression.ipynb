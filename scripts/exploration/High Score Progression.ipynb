{
 "cells": [
  {
   "cell_type": "code",
   "execution_count": 60,
   "id": "69c5e29f",
   "metadata": {},
   "outputs": [],
   "source": [
    "from datetime import datetime\n",
    "\n",
    "import pandas as pd\n",
    "\n",
    "import statbotics\n",
    "\n",
    "sb = statbotics.Statbotics()"
   ]
  },
  {
   "cell_type": "code",
   "execution_count": 64,
   "id": "e2ab1a9f",
   "metadata": {},
   "outputs": [],
   "source": [
    "matches = sb.get_matches(year=2017, limit=10000) + sb.get_matches(year=2017, offset=10000, limit=10000)\n",
    "matches = sorted(matches, key=lambda x: x[\"time\"])     "
   ]
  },
  {
   "cell_type": "code",
   "execution_count": 65,
   "id": "c8d839bd",
   "metadata": {},
   "outputs": [
    {
     "name": "stdout",
     "output_type": "stream",
     "text": [
      "2017-03-01: 2017txlu_qm1 red (935, 6430, 624) 195\n",
      "2017-03-01: 2017txlu_qm1 blue (2481, 192, 3366) 259\n",
      "2017-03-01: 2017flwp_qm6 red (79, 179, 5558) 285\n",
      "2017-03-01: 2017mndu_qm16 blue (4181, 6318, 4539) 288\n",
      "2017-03-01: 2017scmb_qm22 red (3824, 1553, 2815) 306\n",
      "2017-03-01: 2017flwp_qm41 red (125, 59, 1523) 309\n",
      "2017-03-01: 2017mndu2_qm72 red (5172, 3130, 2512) 345\n",
      "2017-03-01: 2017mndu2_sf1m1 blue (876, 2512, 27) 425\n",
      "2017-03-03: 2017nhgrs_sf1m2 red (4908, 5687, 1058) 445\n",
      "2017-03-08: 2017flor_qf1m3 red (1744, 180, 4481) 447\n",
      "2017-03-08: 2017flor_qf4m2 blue (2383, 86, 1065) 459\n",
      "2017-03-15: 2017ilpe_qf1m2 red (2220, 2481, 4143) 506\n",
      "2017-03-29: 2017casj_qf1m2 red (4990, 254, 604) 507\n",
      "2017-03-29: 2017casj_sf1m1 red (4990, 254, 604) 509\n",
      "2017-03-29: 2017casj_f1m2 red (4990, 254, 604) 517\n",
      "2017-04-12: 2017oncmp_qf1m1 red (4814, 2056, 610) 522\n",
      "2017-04-12: 2017oncmp_qf1m2 red (4814, 2056, 610) 523\n",
      "2017-04-12: 2017wila_sf1m2 red (5442, 1986, 2062) 533\n",
      "2017-04-19: 2017new_sf1m1 red (4188, 1678, 118) 555\n",
      "2017-07-29: 2017nhfoc_f1m5 blue (254, 2767, 862) 588\n"
     ]
    }
   ],
   "source": [
    "high_score = 0\n",
    "for match in matches:\n",
    "    if not match[\"status\"] == \"Completed\":\n",
    "        continue\n",
    "        \n",
    "    red_score = int(match[\"red_score\"] - match[\"red_fouls\"])\n",
    "    blue_score = int(match[\"blue_score\"] - match[\"blue_fouls\"])\n",
    "    \n",
    "    key = match[\"key\"]\n",
    "    date = (datetime.fromtimestamp(match[\"time\"])).date()\n",
    "    \n",
    "    if red_score is not None and red_score > high_score:\n",
    "        high_score = red_score\n",
    "        t1, t2, t3 = match[\"red_1\"], match[\"red_2\"], match[\"red_3\"]\n",
    "        print(f\"{date}: {key} red ({t1}, {t2}, {t3}) {red_score}\")\n",
    "        \n",
    "    if blue_score is not None and blue_score > high_score:\n",
    "        high_score = blue_score\n",
    "        t1, t2, t3 = match[\"blue_1\"], match[\"blue_2\"], match[\"blue_3\"]\n",
    "        print(f\"{date}: {key} blue ({t1}, {t2}, {t3}) {blue_score}\")"
   ]
  }
 ],
 "metadata": {
  "kernelspec": {
   "display_name": "Python 3 (ipykernel)",
   "language": "python",
   "name": "python3"
  },
  "language_info": {
   "codemirror_mode": {
    "name": "ipython",
    "version": 3
   },
   "file_extension": ".py",
   "mimetype": "text/x-python",
   "name": "python",
   "nbconvert_exporter": "python",
   "pygments_lexer": "ipython3",
   "version": "3.11.2"
  }
 },
 "nbformat": 4,
 "nbformat_minor": 5
}
